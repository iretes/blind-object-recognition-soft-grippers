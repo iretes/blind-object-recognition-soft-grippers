{
 "cells": [
  {
   "cell_type": "markdown",
   "id": "894374b9",
   "metadata": {},
   "source": [
    "# Experiments with a deep Convolutional Neural Network\n",
    "\n",
    "Importing libraries:"
   ]
  },
  {
   "cell_type": "code",
   "execution_count": 1,
   "id": "e94a42f3",
   "metadata": {},
   "outputs": [],
   "source": [
    "import os\n",
    "import numpy as np\n",
    "import pandas as pd\n",
    "import tensorflow as tf\n",
    "import matplotlib.pyplot as plt\n",
    "from utils import get_clf_report_dfs, plot_confusion_matrix"
   ]
  },
  {
   "cell_type": "markdown",
   "id": "ca92eb14",
   "metadata": {},
   "source": [
    "Defining constants:"
   ]
  },
  {
   "cell_type": "code",
   "execution_count": 2,
   "id": "626477b6",
   "metadata": {},
   "outputs": [],
   "source": [
    "RANDOM_SEED=42\n",
    "MODEL_NAME=\"deepCNN\"\n",
    "RESULTS_DIR=f\"./results/{MODEL_NAME}\"\n",
    "if not os.path.exists(RESULTS_DIR):\n",
    "    os.makedirs(RESULTS_DIR)\n",
    "np.random.seed(RANDOM_SEED)\n",
    "tf.keras.utils.set_random_seed(RANDOM_SEED)"
   ]
  },
  {
   "cell_type": "markdown",
   "id": "458dcc11",
   "metadata": {},
   "source": [
    "Loading the data:"
   ]
  },
  {
   "cell_type": "code",
   "execution_count": 3,
   "id": "4927742c",
   "metadata": {},
   "outputs": [],
   "source": [
    "data = np.load('./dataset/dataset.npz')\n",
    "X_train = data['X_train']\n",
    "y_train = data['y_train']\n",
    "X_val = data['X_val']\n",
    "y_val = data['y_val']\n",
    "X_test = data['X_test']\n",
    "y_test = data['y_test']\n",
    "y_mapping = data['y_mapping']"
   ]
  },
  {
   "cell_type": "markdown",
   "id": "955626aa",
   "metadata": {},
   "source": [
    "Defining the network architecture. It corresponds to the encoder of the U-Net in the Deep Attentive Time Warping approach:"
   ]
  },
  {
   "cell_type": "code",
   "execution_count": 4,
   "id": "711e5400",
   "metadata": {},
   "outputs": [],
   "source": [
    "class deepCNN:\n",
    "    def __init__(self, input_shape, num_classes, learning_rate=1e-4):\n",
    "        self.input_shape = input_shape\n",
    "        self.num_classes = num_classes\n",
    "        self.learning_rate = learning_rate\n",
    "    \n",
    "    def double_conv(self, filters):\n",
    "        return tf.keras.Sequential([\n",
    "            tf.keras.layers.Conv1D(filters, 3, padding='same'),\n",
    "            tf.keras.layers.BatchNormalization(),\n",
    "            tf.keras.layers.ReLU(),\n",
    "            tf.keras.layers.Conv1D(filters, 3, padding='same'),\n",
    "            tf.keras.layers.BatchNormalization(),\n",
    "            tf.keras.layers.ReLU(),\n",
    "        ])\n",
    "\n",
    "    def build(self):\n",
    "        model = tf.keras.Sequential()\n",
    "        model.add(tf.keras.layers.Input(shape=self.input_shape))\n",
    "\n",
    "        model.add(self.double_conv(64))\n",
    "        model.add(tf.keras.layers.MaxPooling1D(2))\n",
    "\n",
    "        model.add(self.double_conv(128))\n",
    "        model.add(tf.keras.layers.MaxPooling1D(2))\n",
    "\n",
    "        model.add(self.double_conv(256))\n",
    "        model.add(tf.keras.layers.MaxPooling1D(2))\n",
    "\n",
    "        model.add(self.double_conv(512))\n",
    "        model.add(tf.keras.layers.MaxPooling1D(2))\n",
    "\n",
    "        model.add(self.double_conv(1024))\n",
    "        model.add(tf.keras.layers.GlobalAveragePooling1D())\n",
    "\n",
    "        model.add(tf.keras.layers.Dense(self.num_classes, activation='softmax'))\n",
    "\n",
    "        model.compile(\n",
    "            optimizer=tf.keras.optimizers.Adam(learning_rate=self.learning_rate),\n",
    "            loss='sparse_categorical_crossentropy',\n",
    "            metrics=['sparse_categorical_accuracy']\n",
    "        )\n",
    "        \n",
    "        return model"
   ]
  },
  {
   "cell_type": "markdown",
   "id": "3c43c337",
   "metadata": {},
   "source": [
    "Building the model:"
   ]
  },
  {
   "cell_type": "code",
   "execution_count": 5,
   "id": "b5f65369",
   "metadata": {},
   "outputs": [
    {
     "data": {
      "text/html": [
       "<pre style=\"white-space:pre;overflow-x:auto;line-height:normal;font-family:Menlo,'DejaVu Sans Mono',consolas,'Courier New',monospace\"><span style=\"font-weight: bold\">Model: \"sequential\"</span>\n",
       "</pre>\n"
      ],
      "text/plain": [
       "\u001b[1mModel: \"sequential\"\u001b[0m\n"
      ]
     },
     "metadata": {},
     "output_type": "display_data"
    },
    {
     "data": {
      "text/html": [
       "<pre style=\"white-space:pre;overflow-x:auto;line-height:normal;font-family:Menlo,'DejaVu Sans Mono',consolas,'Courier New',monospace\">┏━━━━━━━━━━━━━━━━━━━━━━━━━━━━━━━━━┳━━━━━━━━━━━━━━━━━━━━━━━━┳━━━━━━━━━━━━━━━┓\n",
       "┃<span style=\"font-weight: bold\"> Layer (type)                    </span>┃<span style=\"font-weight: bold\"> Output Shape           </span>┃<span style=\"font-weight: bold\">       Param # </span>┃\n",
       "┡━━━━━━━━━━━━━━━━━━━━━━━━━━━━━━━━━╇━━━━━━━━━━━━━━━━━━━━━━━━╇━━━━━━━━━━━━━━━┩\n",
       "│ sequential_1 (<span style=\"color: #0087ff; text-decoration-color: #0087ff\">Sequential</span>)       │ (<span style=\"color: #00d7ff; text-decoration-color: #00d7ff\">None</span>, <span style=\"color: #00af00; text-decoration-color: #00af00\">150</span>, <span style=\"color: #00af00; text-decoration-color: #00af00\">64</span>)        │        <span style=\"color: #00af00; text-decoration-color: #00af00\">13,696</span> │\n",
       "├─────────────────────────────────┼────────────────────────┼───────────────┤\n",
       "│ max_pooling1d (<span style=\"color: #0087ff; text-decoration-color: #0087ff\">MaxPooling1D</span>)    │ (<span style=\"color: #00d7ff; text-decoration-color: #00d7ff\">None</span>, <span style=\"color: #00af00; text-decoration-color: #00af00\">75</span>, <span style=\"color: #00af00; text-decoration-color: #00af00\">64</span>)         │             <span style=\"color: #00af00; text-decoration-color: #00af00\">0</span> │\n",
       "├─────────────────────────────────┼────────────────────────┼───────────────┤\n",
       "│ sequential_2 (<span style=\"color: #0087ff; text-decoration-color: #0087ff\">Sequential</span>)       │ (<span style=\"color: #00d7ff; text-decoration-color: #00d7ff\">None</span>, <span style=\"color: #00af00; text-decoration-color: #00af00\">75</span>, <span style=\"color: #00af00; text-decoration-color: #00af00\">128</span>)        │        <span style=\"color: #00af00; text-decoration-color: #00af00\">75,008</span> │\n",
       "├─────────────────────────────────┼────────────────────────┼───────────────┤\n",
       "│ max_pooling1d_1 (<span style=\"color: #0087ff; text-decoration-color: #0087ff\">MaxPooling1D</span>)  │ (<span style=\"color: #00d7ff; text-decoration-color: #00d7ff\">None</span>, <span style=\"color: #00af00; text-decoration-color: #00af00\">37</span>, <span style=\"color: #00af00; text-decoration-color: #00af00\">128</span>)        │             <span style=\"color: #00af00; text-decoration-color: #00af00\">0</span> │\n",
       "├─────────────────────────────────┼────────────────────────┼───────────────┤\n",
       "│ sequential_3 (<span style=\"color: #0087ff; text-decoration-color: #0087ff\">Sequential</span>)       │ (<span style=\"color: #00d7ff; text-decoration-color: #00d7ff\">None</span>, <span style=\"color: #00af00; text-decoration-color: #00af00\">37</span>, <span style=\"color: #00af00; text-decoration-color: #00af00\">256</span>)        │       <span style=\"color: #00af00; text-decoration-color: #00af00\">297,472</span> │\n",
       "├─────────────────────────────────┼────────────────────────┼───────────────┤\n",
       "│ max_pooling1d_2 (<span style=\"color: #0087ff; text-decoration-color: #0087ff\">MaxPooling1D</span>)  │ (<span style=\"color: #00d7ff; text-decoration-color: #00d7ff\">None</span>, <span style=\"color: #00af00; text-decoration-color: #00af00\">18</span>, <span style=\"color: #00af00; text-decoration-color: #00af00\">256</span>)        │             <span style=\"color: #00af00; text-decoration-color: #00af00\">0</span> │\n",
       "├─────────────────────────────────┼────────────────────────┼───────────────┤\n",
       "│ sequential_4 (<span style=\"color: #0087ff; text-decoration-color: #0087ff\">Sequential</span>)       │ (<span style=\"color: #00d7ff; text-decoration-color: #00d7ff\">None</span>, <span style=\"color: #00af00; text-decoration-color: #00af00\">18</span>, <span style=\"color: #00af00; text-decoration-color: #00af00\">512</span>)        │     <span style=\"color: #00af00; text-decoration-color: #00af00\">1,184,768</span> │\n",
       "├─────────────────────────────────┼────────────────────────┼───────────────┤\n",
       "│ max_pooling1d_3 (<span style=\"color: #0087ff; text-decoration-color: #0087ff\">MaxPooling1D</span>)  │ (<span style=\"color: #00d7ff; text-decoration-color: #00d7ff\">None</span>, <span style=\"color: #00af00; text-decoration-color: #00af00\">9</span>, <span style=\"color: #00af00; text-decoration-color: #00af00\">512</span>)         │             <span style=\"color: #00af00; text-decoration-color: #00af00\">0</span> │\n",
       "├─────────────────────────────────┼────────────────────────┼───────────────┤\n",
       "│ sequential_5 (<span style=\"color: #0087ff; text-decoration-color: #0087ff\">Sequential</span>)       │ (<span style=\"color: #00d7ff; text-decoration-color: #00d7ff\">None</span>, <span style=\"color: #00af00; text-decoration-color: #00af00\">9</span>, <span style=\"color: #00af00; text-decoration-color: #00af00\">1024</span>)        │     <span style=\"color: #00af00; text-decoration-color: #00af00\">4,728,832</span> │\n",
       "├─────────────────────────────────┼────────────────────────┼───────────────┤\n",
       "│ global_average_pooling1d        │ (<span style=\"color: #00d7ff; text-decoration-color: #00d7ff\">None</span>, <span style=\"color: #00af00; text-decoration-color: #00af00\">1024</span>)           │             <span style=\"color: #00af00; text-decoration-color: #00af00\">0</span> │\n",
       "│ (<span style=\"color: #0087ff; text-decoration-color: #0087ff\">GlobalAveragePooling1D</span>)        │                        │               │\n",
       "├─────────────────────────────────┼────────────────────────┼───────────────┤\n",
       "│ dense (<span style=\"color: #0087ff; text-decoration-color: #0087ff\">Dense</span>)                   │ (<span style=\"color: #00d7ff; text-decoration-color: #00d7ff\">None</span>, <span style=\"color: #00af00; text-decoration-color: #00af00\">643</span>)            │       <span style=\"color: #00af00; text-decoration-color: #00af00\">659,075</span> │\n",
       "└─────────────────────────────────┴────────────────────────┴───────────────┘\n",
       "</pre>\n"
      ],
      "text/plain": [
       "┏━━━━━━━━━━━━━━━━━━━━━━━━━━━━━━━━━┳━━━━━━━━━━━━━━━━━━━━━━━━┳━━━━━━━━━━━━━━━┓\n",
       "┃\u001b[1m \u001b[0m\u001b[1mLayer (type)                   \u001b[0m\u001b[1m \u001b[0m┃\u001b[1m \u001b[0m\u001b[1mOutput Shape          \u001b[0m\u001b[1m \u001b[0m┃\u001b[1m \u001b[0m\u001b[1m      Param #\u001b[0m\u001b[1m \u001b[0m┃\n",
       "┡━━━━━━━━━━━━━━━━━━━━━━━━━━━━━━━━━╇━━━━━━━━━━━━━━━━━━━━━━━━╇━━━━━━━━━━━━━━━┩\n",
       "│ sequential_1 (\u001b[38;5;33mSequential\u001b[0m)       │ (\u001b[38;5;45mNone\u001b[0m, \u001b[38;5;34m150\u001b[0m, \u001b[38;5;34m64\u001b[0m)        │        \u001b[38;5;34m13,696\u001b[0m │\n",
       "├─────────────────────────────────┼────────────────────────┼───────────────┤\n",
       "│ max_pooling1d (\u001b[38;5;33mMaxPooling1D\u001b[0m)    │ (\u001b[38;5;45mNone\u001b[0m, \u001b[38;5;34m75\u001b[0m, \u001b[38;5;34m64\u001b[0m)         │             \u001b[38;5;34m0\u001b[0m │\n",
       "├─────────────────────────────────┼────────────────────────┼───────────────┤\n",
       "│ sequential_2 (\u001b[38;5;33mSequential\u001b[0m)       │ (\u001b[38;5;45mNone\u001b[0m, \u001b[38;5;34m75\u001b[0m, \u001b[38;5;34m128\u001b[0m)        │        \u001b[38;5;34m75,008\u001b[0m │\n",
       "├─────────────────────────────────┼────────────────────────┼───────────────┤\n",
       "│ max_pooling1d_1 (\u001b[38;5;33mMaxPooling1D\u001b[0m)  │ (\u001b[38;5;45mNone\u001b[0m, \u001b[38;5;34m37\u001b[0m, \u001b[38;5;34m128\u001b[0m)        │             \u001b[38;5;34m0\u001b[0m │\n",
       "├─────────────────────────────────┼────────────────────────┼───────────────┤\n",
       "│ sequential_3 (\u001b[38;5;33mSequential\u001b[0m)       │ (\u001b[38;5;45mNone\u001b[0m, \u001b[38;5;34m37\u001b[0m, \u001b[38;5;34m256\u001b[0m)        │       \u001b[38;5;34m297,472\u001b[0m │\n",
       "├─────────────────────────────────┼────────────────────────┼───────────────┤\n",
       "│ max_pooling1d_2 (\u001b[38;5;33mMaxPooling1D\u001b[0m)  │ (\u001b[38;5;45mNone\u001b[0m, \u001b[38;5;34m18\u001b[0m, \u001b[38;5;34m256\u001b[0m)        │             \u001b[38;5;34m0\u001b[0m │\n",
       "├─────────────────────────────────┼────────────────────────┼───────────────┤\n",
       "│ sequential_4 (\u001b[38;5;33mSequential\u001b[0m)       │ (\u001b[38;5;45mNone\u001b[0m, \u001b[38;5;34m18\u001b[0m, \u001b[38;5;34m512\u001b[0m)        │     \u001b[38;5;34m1,184,768\u001b[0m │\n",
       "├─────────────────────────────────┼────────────────────────┼───────────────┤\n",
       "│ max_pooling1d_3 (\u001b[38;5;33mMaxPooling1D\u001b[0m)  │ (\u001b[38;5;45mNone\u001b[0m, \u001b[38;5;34m9\u001b[0m, \u001b[38;5;34m512\u001b[0m)         │             \u001b[38;5;34m0\u001b[0m │\n",
       "├─────────────────────────────────┼────────────────────────┼───────────────┤\n",
       "│ sequential_5 (\u001b[38;5;33mSequential\u001b[0m)       │ (\u001b[38;5;45mNone\u001b[0m, \u001b[38;5;34m9\u001b[0m, \u001b[38;5;34m1024\u001b[0m)        │     \u001b[38;5;34m4,728,832\u001b[0m │\n",
       "├─────────────────────────────────┼────────────────────────┼───────────────┤\n",
       "│ global_average_pooling1d        │ (\u001b[38;5;45mNone\u001b[0m, \u001b[38;5;34m1024\u001b[0m)           │             \u001b[38;5;34m0\u001b[0m │\n",
       "│ (\u001b[38;5;33mGlobalAveragePooling1D\u001b[0m)        │                        │               │\n",
       "├─────────────────────────────────┼────────────────────────┼───────────────┤\n",
       "│ dense (\u001b[38;5;33mDense\u001b[0m)                   │ (\u001b[38;5;45mNone\u001b[0m, \u001b[38;5;34m643\u001b[0m)            │       \u001b[38;5;34m659,075\u001b[0m │\n",
       "└─────────────────────────────────┴────────────────────────┴───────────────┘\n"
      ]
     },
     "metadata": {},
     "output_type": "display_data"
    },
    {
     "data": {
      "text/html": [
       "<pre style=\"white-space:pre;overflow-x:auto;line-height:normal;font-family:Menlo,'DejaVu Sans Mono',consolas,'Courier New',monospace\"><span style=\"font-weight: bold\"> Total params: </span><span style=\"color: #00af00; text-decoration-color: #00af00\">6,958,851</span> (26.55 MB)\n",
       "</pre>\n"
      ],
      "text/plain": [
       "\u001b[1m Total params: \u001b[0m\u001b[38;5;34m6,958,851\u001b[0m (26.55 MB)\n"
      ]
     },
     "metadata": {},
     "output_type": "display_data"
    },
    {
     "data": {
      "text/html": [
       "<pre style=\"white-space:pre;overflow-x:auto;line-height:normal;font-family:Menlo,'DejaVu Sans Mono',consolas,'Courier New',monospace\"><span style=\"font-weight: bold\"> Trainable params: </span><span style=\"color: #00af00; text-decoration-color: #00af00\">6,950,915</span> (26.52 MB)\n",
       "</pre>\n"
      ],
      "text/plain": [
       "\u001b[1m Trainable params: \u001b[0m\u001b[38;5;34m6,950,915\u001b[0m (26.52 MB)\n"
      ]
     },
     "metadata": {},
     "output_type": "display_data"
    },
    {
     "data": {
      "text/html": [
       "<pre style=\"white-space:pre;overflow-x:auto;line-height:normal;font-family:Menlo,'DejaVu Sans Mono',consolas,'Courier New',monospace\"><span style=\"font-weight: bold\"> Non-trainable params: </span><span style=\"color: #00af00; text-decoration-color: #00af00\">7,936</span> (31.00 KB)\n",
       "</pre>\n"
      ],
      "text/plain": [
       "\u001b[1m Non-trainable params: \u001b[0m\u001b[38;5;34m7,936\u001b[0m (31.00 KB)\n"
      ]
     },
     "metadata": {},
     "output_type": "display_data"
    }
   ],
   "source": [
    "model = deepCNN(\n",
    "    input_shape=X_train.shape[1:],\n",
    "    num_classes=y_train.shape[0],\n",
    ").build()\n",
    "\n",
    "model.summary()"
   ]
  },
  {
   "cell_type": "markdown",
   "id": "5206ed9d",
   "metadata": {},
   "source": [
    "Fitting the model:"
   ]
  },
  {
   "cell_type": "code",
   "execution_count": 6,
   "id": "eaeda076",
   "metadata": {},
   "outputs": [
    {
     "name": "stdout",
     "output_type": "stream",
     "text": [
      "Epoch 1/500\n",
      "\u001b[1m41/41\u001b[0m \u001b[32m━━━━━━━━━━━━━━━━━━━━\u001b[0m\u001b[37m\u001b[0m \u001b[1m5s\u001b[0m 69ms/step - loss: 4.4719 - sparse_categorical_accuracy: 0.3027 - val_loss: 6.0584 - val_sparse_categorical_accuracy: 0.0625 - learning_rate: 1.0000e-04\n",
      "Epoch 2/500\n",
      "\u001b[1m41/41\u001b[0m \u001b[32m━━━━━━━━━━━━━━━━━━━━\u001b[0m\u001b[37m\u001b[0m \u001b[1m3s\u001b[0m 62ms/step - loss: 1.1577 - sparse_categorical_accuracy: 0.7258 - val_loss: 5.5895 - val_sparse_categorical_accuracy: 0.0625 - learning_rate: 1.0000e-04\n",
      "Epoch 3/500\n",
      "\u001b[1m41/41\u001b[0m \u001b[32m━━━━━━━━━━━━━━━━━━━━\u001b[0m\u001b[37m\u001b[0m \u001b[1m3s\u001b[0m 68ms/step - loss: 0.5873 - sparse_categorical_accuracy: 0.8555 - val_loss: 5.2132 - val_sparse_categorical_accuracy: 0.0625 - learning_rate: 1.0000e-04\n",
      "Epoch 4/500\n",
      "\u001b[1m41/41\u001b[0m \u001b[32m━━━━━━━━━━━━━━━━━━━━\u001b[0m\u001b[37m\u001b[0m \u001b[1m3s\u001b[0m 67ms/step - loss: 0.2762 - sparse_categorical_accuracy: 0.9684 - val_loss: 4.9252 - val_sparse_categorical_accuracy: 0.0625 - learning_rate: 1.0000e-04\n",
      "Epoch 5/500\n",
      "\u001b[1m41/41\u001b[0m \u001b[32m━━━━━━━━━━━━━━━━━━━━\u001b[0m\u001b[37m\u001b[0m \u001b[1m3s\u001b[0m 70ms/step - loss: 0.1289 - sparse_categorical_accuracy: 0.9979 - val_loss: 4.7979 - val_sparse_categorical_accuracy: 0.0625 - learning_rate: 1.0000e-04\n",
      "Epoch 6/500\n",
      "\u001b[1m41/41\u001b[0m \u001b[32m━━━━━━━━━━━━━━━━━━━━\u001b[0m\u001b[37m\u001b[0m \u001b[1m3s\u001b[0m 72ms/step - loss: 0.0714 - sparse_categorical_accuracy: 1.0000 - val_loss: 4.7913 - val_sparse_categorical_accuracy: 0.0625 - learning_rate: 1.0000e-04\n",
      "Epoch 7/500\n",
      "\u001b[1m41/41\u001b[0m \u001b[32m━━━━━━━━━━━━━━━━━━━━\u001b[0m\u001b[37m\u001b[0m \u001b[1m3s\u001b[0m 77ms/step - loss: 0.0405 - sparse_categorical_accuracy: 1.0000 - val_loss: 4.6831 - val_sparse_categorical_accuracy: 0.0625 - learning_rate: 1.0000e-04\n",
      "Epoch 8/500\n",
      "\u001b[1m41/41\u001b[0m \u001b[32m━━━━━━━━━━━━━━━━━━━━\u001b[0m\u001b[37m\u001b[0m \u001b[1m3s\u001b[0m 74ms/step - loss: 0.0248 - sparse_categorical_accuracy: 1.0000 - val_loss: 4.3922 - val_sparse_categorical_accuracy: 0.0625 - learning_rate: 1.0000e-04\n",
      "Epoch 9/500\n",
      "\u001b[1m41/41\u001b[0m \u001b[32m━━━━━━━━━━━━━━━━━━━━\u001b[0m\u001b[37m\u001b[0m \u001b[1m3s\u001b[0m 74ms/step - loss: 0.0170 - sparse_categorical_accuracy: 1.0000 - val_loss: 3.9747 - val_sparse_categorical_accuracy: 0.1125 - learning_rate: 1.0000e-04\n",
      "Epoch 10/500\n",
      "\u001b[1m41/41\u001b[0m \u001b[32m━━━━━━━━━━━━━━━━━━━━\u001b[0m\u001b[37m\u001b[0m \u001b[1m3s\u001b[0m 74ms/step - loss: 0.0130 - sparse_categorical_accuracy: 1.0000 - val_loss: 3.4462 - val_sparse_categorical_accuracy: 0.1375 - learning_rate: 1.0000e-04\n",
      "Epoch 11/500\n",
      "\u001b[1m41/41\u001b[0m \u001b[32m━━━━━━━━━━━━━━━━━━━━\u001b[0m\u001b[37m\u001b[0m \u001b[1m3s\u001b[0m 78ms/step - loss: 0.0107 - sparse_categorical_accuracy: 1.0000 - val_loss: 2.8617 - val_sparse_categorical_accuracy: 0.2500 - learning_rate: 1.0000e-04\n",
      "Epoch 12/500\n",
      "\u001b[1m41/41\u001b[0m \u001b[32m━━━━━━━━━━━━━━━━━━━━\u001b[0m\u001b[37m\u001b[0m \u001b[1m3s\u001b[0m 79ms/step - loss: 0.0090 - sparse_categorical_accuracy: 1.0000 - val_loss: 2.2118 - val_sparse_categorical_accuracy: 0.3375 - learning_rate: 1.0000e-04\n",
      "Epoch 13/500\n",
      "\u001b[1m41/41\u001b[0m \u001b[32m━━━━━━━━━━━━━━━━━━━━\u001b[0m\u001b[37m\u001b[0m \u001b[1m3s\u001b[0m 77ms/step - loss: 0.0076 - sparse_categorical_accuracy: 1.0000 - val_loss: 1.6230 - val_sparse_categorical_accuracy: 0.4875 - learning_rate: 1.0000e-04\n",
      "Epoch 14/500\n",
      "\u001b[1m41/41\u001b[0m \u001b[32m━━━━━━━━━━━━━━━━━━━━\u001b[0m\u001b[37m\u001b[0m \u001b[1m3s\u001b[0m 79ms/step - loss: 0.0065 - sparse_categorical_accuracy: 1.0000 - val_loss: 1.2329 - val_sparse_categorical_accuracy: 0.5875 - learning_rate: 1.0000e-04\n",
      "Epoch 15/500\n",
      "\u001b[1m41/41\u001b[0m \u001b[32m━━━━━━━━━━━━━━━━━━━━\u001b[0m\u001b[37m\u001b[0m \u001b[1m3s\u001b[0m 77ms/step - loss: 0.0057 - sparse_categorical_accuracy: 1.0000 - val_loss: 1.0023 - val_sparse_categorical_accuracy: 0.7250 - learning_rate: 1.0000e-04\n",
      "Epoch 16/500\n",
      "\u001b[1m41/41\u001b[0m \u001b[32m━━━━━━━━━━━━━━━━━━━━\u001b[0m\u001b[37m\u001b[0m \u001b[1m3s\u001b[0m 76ms/step - loss: 0.0050 - sparse_categorical_accuracy: 1.0000 - val_loss: 0.8952 - val_sparse_categorical_accuracy: 0.7625 - learning_rate: 1.0000e-04\n",
      "Epoch 17/500\n",
      "\u001b[1m41/41\u001b[0m \u001b[32m━━━━━━━━━━━━━━━━━━━━\u001b[0m\u001b[37m\u001b[0m \u001b[1m3s\u001b[0m 76ms/step - loss: 0.0045 - sparse_categorical_accuracy: 1.0000 - val_loss: 0.8480 - val_sparse_categorical_accuracy: 0.7625 - learning_rate: 1.0000e-04\n",
      "Epoch 18/500\n",
      "\u001b[1m41/41\u001b[0m \u001b[32m━━━━━━━━━━━━━━━━━━━━\u001b[0m\u001b[37m\u001b[0m \u001b[1m3s\u001b[0m 77ms/step - loss: 0.0041 - sparse_categorical_accuracy: 1.0000 - val_loss: 0.8294 - val_sparse_categorical_accuracy: 0.7625 - learning_rate: 1.0000e-04\n",
      "Epoch 19/500\n",
      "\u001b[1m41/41\u001b[0m \u001b[32m━━━━━━━━━━━━━━━━━━━━\u001b[0m\u001b[37m\u001b[0m \u001b[1m3s\u001b[0m 77ms/step - loss: 0.0037 - sparse_categorical_accuracy: 1.0000 - val_loss: 0.8251 - val_sparse_categorical_accuracy: 0.7750 - learning_rate: 1.0000e-04\n",
      "Epoch 20/500\n",
      "\u001b[1m41/41\u001b[0m \u001b[32m━━━━━━━━━━━━━━━━━━━━\u001b[0m\u001b[37m\u001b[0m \u001b[1m3s\u001b[0m 78ms/step - loss: 0.0034 - sparse_categorical_accuracy: 1.0000 - val_loss: 0.8288 - val_sparse_categorical_accuracy: 0.7875 - learning_rate: 1.0000e-04\n",
      "Epoch 21/500\n",
      "\u001b[1m41/41\u001b[0m \u001b[32m━━━━━━━━━━━━━━━━━━━━\u001b[0m\u001b[37m\u001b[0m \u001b[1m3s\u001b[0m 78ms/step - loss: 0.0031 - sparse_categorical_accuracy: 1.0000 - val_loss: 0.8339 - val_sparse_categorical_accuracy: 0.7875 - learning_rate: 1.0000e-04\n",
      "Epoch 22/500\n",
      "\u001b[1m41/41\u001b[0m \u001b[32m━━━━━━━━━━━━━━━━━━━━\u001b[0m\u001b[37m\u001b[0m \u001b[1m3s\u001b[0m 78ms/step - loss: 0.0029 - sparse_categorical_accuracy: 1.0000 - val_loss: 0.8390 - val_sparse_categorical_accuracy: 0.7875 - learning_rate: 1.0000e-04\n",
      "Epoch 23/500\n",
      "\u001b[1m41/41\u001b[0m \u001b[32m━━━━━━━━━━━━━━━━━━━━\u001b[0m\u001b[37m\u001b[0m \u001b[1m3s\u001b[0m 80ms/step - loss: 0.0027 - sparse_categorical_accuracy: 1.0000 - val_loss: 0.8439 - val_sparse_categorical_accuracy: 0.8000 - learning_rate: 1.0000e-04\n",
      "Epoch 24/500\n",
      "\u001b[1m41/41\u001b[0m \u001b[32m━━━━━━━━━━━━━━━━━━━━\u001b[0m\u001b[37m\u001b[0m \u001b[1m3s\u001b[0m 81ms/step - loss: 0.0025 - sparse_categorical_accuracy: 1.0000 - val_loss: 0.8485 - val_sparse_categorical_accuracy: 0.7875 - learning_rate: 1.0000e-04\n",
      "Epoch 25/500\n",
      "\u001b[1m41/41\u001b[0m \u001b[32m━━━━━━━━━━━━━━━━━━━━\u001b[0m\u001b[37m\u001b[0m \u001b[1m3s\u001b[0m 77ms/step - loss: 0.0023 - sparse_categorical_accuracy: 1.0000 - val_loss: 0.8534 - val_sparse_categorical_accuracy: 0.8000 - learning_rate: 1.0000e-04\n",
      "Epoch 26/500\n",
      "\u001b[1m41/41\u001b[0m \u001b[32m━━━━━━━━━━━━━━━━━━━━\u001b[0m\u001b[37m\u001b[0m \u001b[1m3s\u001b[0m 78ms/step - loss: 0.0021 - sparse_categorical_accuracy: 1.0000 - val_loss: 0.8570 - val_sparse_categorical_accuracy: 0.8000 - learning_rate: 1.0000e-04\n",
      "Epoch 27/500\n",
      "\u001b[1m41/41\u001b[0m \u001b[32m━━━━━━━━━━━━━━━━━━━━\u001b[0m\u001b[37m\u001b[0m \u001b[1m3s\u001b[0m 78ms/step - loss: 0.0020 - sparse_categorical_accuracy: 1.0000 - val_loss: 0.8611 - val_sparse_categorical_accuracy: 0.8000 - learning_rate: 1.0000e-04\n",
      "Epoch 28/500\n",
      "\u001b[1m41/41\u001b[0m \u001b[32m━━━━━━━━━━━━━━━━━━━━\u001b[0m\u001b[37m\u001b[0m \u001b[1m3s\u001b[0m 76ms/step - loss: 0.0019 - sparse_categorical_accuracy: 1.0000 - val_loss: 0.8645 - val_sparse_categorical_accuracy: 0.8000 - learning_rate: 1.0000e-04\n",
      "Epoch 29/500\n",
      "\u001b[1m41/41\u001b[0m \u001b[32m━━━━━━━━━━━━━━━━━━━━\u001b[0m\u001b[37m\u001b[0m \u001b[1m3s\u001b[0m 80ms/step - loss: 0.0018 - sparse_categorical_accuracy: 1.0000 - val_loss: 0.8682 - val_sparse_categorical_accuracy: 0.8000 - learning_rate: 1.0000e-04\n",
      "Epoch 30/500\n",
      "\u001b[1m41/41\u001b[0m \u001b[32m━━━━━━━━━━━━━━━━━━━━\u001b[0m\u001b[37m\u001b[0m \u001b[1m3s\u001b[0m 78ms/step - loss: 0.0017 - sparse_categorical_accuracy: 1.0000 - val_loss: 0.8688 - val_sparse_categorical_accuracy: 0.8000 - learning_rate: 1.0000e-05\n",
      "Epoch 31/500\n",
      "\u001b[1m41/41\u001b[0m \u001b[32m━━━━━━━━━━━━━━━━━━━━\u001b[0m\u001b[37m\u001b[0m \u001b[1m3s\u001b[0m 80ms/step - loss: 0.0017 - sparse_categorical_accuracy: 1.0000 - val_loss: 0.8694 - val_sparse_categorical_accuracy: 0.8000 - learning_rate: 1.0000e-05\n",
      "Epoch 32/500\n",
      "\u001b[1m41/41\u001b[0m \u001b[32m━━━━━━━━━━━━━━━━━━━━\u001b[0m\u001b[37m\u001b[0m \u001b[1m3s\u001b[0m 81ms/step - loss: 0.0016 - sparse_categorical_accuracy: 1.0000 - val_loss: 0.8698 - val_sparse_categorical_accuracy: 0.8000 - learning_rate: 1.0000e-05\n",
      "Epoch 33/500\n",
      "\u001b[1m41/41\u001b[0m \u001b[32m━━━━━━━━━━━━━━━━━━━━\u001b[0m\u001b[37m\u001b[0m \u001b[1m3s\u001b[0m 79ms/step - loss: 0.0016 - sparse_categorical_accuracy: 1.0000 - val_loss: 0.8700 - val_sparse_categorical_accuracy: 0.8000 - learning_rate: 1.0000e-05\n",
      "Epoch 34/500\n",
      "\u001b[1m41/41\u001b[0m \u001b[32m━━━━━━━━━━━━━━━━━━━━\u001b[0m\u001b[37m\u001b[0m \u001b[1m3s\u001b[0m 78ms/step - loss: 0.0016 - sparse_categorical_accuracy: 1.0000 - val_loss: 0.8703 - val_sparse_categorical_accuracy: 0.8000 - learning_rate: 1.0000e-05\n",
      "Epoch 35/500\n",
      "\u001b[1m41/41\u001b[0m \u001b[32m━━━━━━━━━━━━━━━━━━━━\u001b[0m\u001b[37m\u001b[0m \u001b[1m3s\u001b[0m 80ms/step - loss: 0.0016 - sparse_categorical_accuracy: 1.0000 - val_loss: 0.8707 - val_sparse_categorical_accuracy: 0.8000 - learning_rate: 1.0000e-05\n",
      "Epoch 36/500\n",
      "\u001b[1m41/41\u001b[0m \u001b[32m━━━━━━━━━━━━━━━━━━━━\u001b[0m\u001b[37m\u001b[0m \u001b[1m3s\u001b[0m 77ms/step - loss: 0.0016 - sparse_categorical_accuracy: 1.0000 - val_loss: 0.8711 - val_sparse_categorical_accuracy: 0.8000 - learning_rate: 1.0000e-05\n",
      "Epoch 37/500\n",
      "\u001b[1m41/41\u001b[0m \u001b[32m━━━━━━━━━━━━━━━━━━━━\u001b[0m\u001b[37m\u001b[0m \u001b[1m3s\u001b[0m 76ms/step - loss: 0.0016 - sparse_categorical_accuracy: 1.0000 - val_loss: 0.8714 - val_sparse_categorical_accuracy: 0.8000 - learning_rate: 1.0000e-05\n",
      "Epoch 38/500\n",
      "\u001b[1m41/41\u001b[0m \u001b[32m━━━━━━━━━━━━━━━━━━━━\u001b[0m\u001b[37m\u001b[0m \u001b[1m3s\u001b[0m 77ms/step - loss: 0.0016 - sparse_categorical_accuracy: 1.0000 - val_loss: 0.8719 - val_sparse_categorical_accuracy: 0.8000 - learning_rate: 1.0000e-05\n",
      "Epoch 39/500\n",
      "\u001b[1m41/41\u001b[0m \u001b[32m━━━━━━━━━━━━━━━━━━━━\u001b[0m\u001b[37m\u001b[0m \u001b[1m3s\u001b[0m 77ms/step - loss: 0.0016 - sparse_categorical_accuracy: 1.0000 - val_loss: 0.8723 - val_sparse_categorical_accuracy: 0.8000 - learning_rate: 1.0000e-05\n"
     ]
    }
   ],
   "source": [
    "num_epochs = 500\n",
    "batch_size = 16\n",
    "\n",
    "early_stopping = tf.keras.callbacks.EarlyStopping(monitor=\"val_loss\", patience=20, restore_best_weights=True)\n",
    "lr_scheduler = tf.keras.callbacks.ReduceLROnPlateau(monitor=\"val_loss\", patience=10)\n",
    "\n",
    "history = model.fit(\n",
    "    X_train, y_train,\n",
    "    epochs=num_epochs,\n",
    "    batch_size=batch_size,\n",
    "    validation_data=(X_val, y_val),\n",
    "    callbacks=[\n",
    "        early_stopping,\n",
    "        lr_scheduler\n",
    "    ],\n",
    "    verbose=1\n",
    ")\n",
    "model.save(os.path.join(RESULTS_DIR, f\"{MODEL_NAME}.keras\"))"
   ]
  },
  {
   "cell_type": "markdown",
   "id": "8cd46e34",
   "metadata": {},
   "source": [
    "Visualizing the learning curves:"
   ]
  },
  {
   "cell_type": "code",
   "execution_count": 7,
   "id": "3d142666",
   "metadata": {},
   "outputs": [
    {
     "data": {
      "image/png": "[encoded data removed]",
      "text/plain": [
       "<Figure size 1200x500 with 2 Axes>"
      ]
     },
     "metadata": {},
     "output_type": "display_data"
    }
   ],
   "source": [
    "fig, (ax1, ax2) = plt.subplots(1, 2, figsize=(12, 5))\n",
    "\n",
    "ax1.plot(history.history[\"loss\"], label=\"train\")\n",
    "ax1.plot(history.history[\"val_loss\"], label=\"val\")\n",
    "ax1.set_title(f\"{MODEL_NAME} - Loss\")\n",
    "ax1.set_ylabel(\"Sparse Categorical Crossentropy\")\n",
    "ax1.set_xlabel(\"Epoch\")\n",
    "ax1.grid()\n",
    "ax1.legend()\n",
    "\n",
    "ax2.plot(history.history[\"sparse_categorical_accuracy\"], label=\"train\")\n",
    "ax2.plot(history.history[\"val_sparse_categorical_accuracy\"], label=\"val\")\n",
    "ax2.set_title(f\"{MODEL_NAME} - Accuracy\")\n",
    "ax2.set_ylabel(\"Sparse Categorical Accuracy\")\n",
    "ax2.set_xlabel(\"Epoch\")\n",
    "ax2.grid()\n",
    "ax2.legend()\n",
    "\n",
    "fig.tight_layout()"
   ]
  },
  {
   "cell_type": "markdown",
   "id": "79702c88",
   "metadata": {},
   "source": [
    "Displaying model loss and accuracy:"
   ]
  },
  {
   "cell_type": "code",
   "execution_count": 8,
   "id": "e8f7fcaa",
   "metadata": {},
   "outputs": [
    {
     "name": "stdout",
     "output_type": "stream",
     "text": [
      "\u001b[1m21/21\u001b[0m \u001b[32m━━━━━━━━━━━━━━━━━━━━\u001b[0m\u001b[37m\u001b[0m \u001b[1m1s\u001b[0m 21ms/step - loss: 0.0658 - sparse_categorical_accuracy: 0.9804\n",
      "\u001b[1m3/3\u001b[0m \u001b[32m━━━━━━━━━━━━━━━━━━━━\u001b[0m\u001b[37m\u001b[0m \u001b[1m0s\u001b[0m 20ms/step - loss: 0.7977 - sparse_categorical_accuracy: 0.7625\n",
      "\u001b[1m3/3\u001b[0m \u001b[32m━━━━━━━━━━━━━━━━━━━━\u001b[0m\u001b[37m\u001b[0m \u001b[1m0s\u001b[0m 21ms/step - loss: 1.0888 - sparse_categorical_accuracy: 0.7554\n"
     ]
    },
    {
     "data": {
      "text/html": [
       "<div>\n",
       "<style scoped>\n",
       "    .dataframe tbody tr th:only-of-type {\n",
       "        vertical-align: middle;\n",
       "    }\n",
       "\n",
       "    .dataframe tbody tr th {\n",
       "        vertical-align: top;\n",
       "    }\n",
       "\n",
       "    .dataframe thead th {\n",
       "        text-align: right;\n",
       "    }\n",
       "</style>\n",
       "<table border=\"1\" class=\"dataframe\">\n",
       "  <thead>\n",
       "    <tr style=\"text-align: right;\">\n",
       "      <th></th>\n",
       "      <th>Loss</th>\n",
       "      <th>Accuracy</th>\n",
       "    </tr>\n",
       "    <tr>\n",
       "      <th>Dataset</th>\n",
       "      <th></th>\n",
       "      <th></th>\n",
       "    </tr>\n",
       "  </thead>\n",
       "  <tbody>\n",
       "    <tr>\n",
       "      <th>Train</th>\n",
       "      <td>0.055250</td>\n",
       "      <td>0.986003</td>\n",
       "    </tr>\n",
       "    <tr>\n",
       "      <th>Val</th>\n",
       "      <td>0.825075</td>\n",
       "      <td>0.775000</td>\n",
       "    </tr>\n",
       "    <tr>\n",
       "      <th>Test</th>\n",
       "      <td>1.094252</td>\n",
       "      <td>0.753086</td>\n",
       "    </tr>\n",
       "  </tbody>\n",
       "</table>\n",
       "</div>"
      ],
      "text/plain": [
       "             Loss  Accuracy\n",
       "Dataset                    \n",
       "Train    0.055250  0.986003\n",
       "Val      0.825075  0.775000\n",
       "Test     1.094252  0.753086"
      ]
     },
     "execution_count": 8,
     "metadata": {},
     "output_type": "execute_result"
    }
   ],
   "source": [
    "train_loss, train_accuracy = model.evaluate(X_train, y_train)\n",
    "val_loss, val_accuracy = model.evaluate(X_val, y_val)\n",
    "test_loss, test_accuracy = model.evaluate(X_test, y_test)\n",
    "pd.DataFrame({\n",
    "    \"Dataset\": [\"Train\", \"Val\", \"Test\"],\n",
    "    \"Loss\": [train_loss, val_loss, test_loss],\n",
    "    \"Accuracy\": [train_accuracy, val_accuracy, test_accuracy]\n",
    "}).set_index(\"Dataset\")"
   ]
  },
  {
   "cell_type": "markdown",
   "id": "28b64404",
   "metadata": {},
   "source": [
    "Displaying model performance on the test set:"
   ]
  },
  {
   "cell_type": "code",
   "execution_count": 9,
   "id": "c1c78974",
   "metadata": {},
   "outputs": [
    {
     "name": "stdout",
     "output_type": "stream",
     "text": [
      "\u001b[1m3/3\u001b[0m \u001b[32m━━━━━━━━━━━━━━━━━━━━\u001b[0m\u001b[37m\u001b[0m \u001b[1m0s\u001b[0m 79ms/step\n"
     ]
    },
    {
     "data": {
      "text/html": [
       "<div>\n",
       "<style scoped>\n",
       "    .dataframe tbody tr th:only-of-type {\n",
       "        vertical-align: middle;\n",
       "    }\n",
       "\n",
       "    .dataframe tbody tr th {\n",
       "        vertical-align: top;\n",
       "    }\n",
       "\n",
       "    .dataframe thead th {\n",
       "        text-align: right;\n",
       "    }\n",
       "</style>\n",
       "<table border=\"1\" class=\"dataframe\">\n",
       "  <thead>\n",
       "    <tr style=\"text-align: right;\">\n",
       "      <th></th>\n",
       "      <th>accuracy</th>\n",
       "      <th>f1-score macro avg</th>\n",
       "      <th>f1-score weighted avg</th>\n",
       "      <th>precision macro avg</th>\n",
       "      <th>precision weighted avg</th>\n",
       "      <th>recall macro avg</th>\n",
       "      <th>recall weighted avg</th>\n",
       "    </tr>\n",
       "  </thead>\n",
       "  <tbody>\n",
       "    <tr>\n",
       "      <th>0</th>\n",
       "      <td>0.753086</td>\n",
       "      <td>0.749097</td>\n",
       "      <td>0.742187</td>\n",
       "      <td>0.772269</td>\n",
       "      <td>0.767196</td>\n",
       "      <td>0.762745</td>\n",
       "      <td>0.753086</td>\n",
       "    </tr>\n",
       "  </tbody>\n",
       "</table>\n",
       "</div>"
      ],
      "text/plain": [
       "   accuracy  f1-score macro avg  f1-score weighted avg  precision macro avg  \\\n",
       "0  0.753086            0.749097               0.742187             0.772269   \n",
       "\n",
       "   precision weighted avg  recall macro avg  recall weighted avg  \n",
       "0                0.767196          0.762745             0.753086  "
      ]
     },
     "execution_count": 9,
     "metadata": {},
     "output_type": "execute_result"
    }
   ],
   "source": [
    "y_pred_proba = model.predict(X_test)\n",
    "y_pred = np.argmax(y_pred_proba, axis=1)\n",
    "\n",
    "np.save(os.path.join(RESULTS_DIR, f\"{MODEL_NAME}_predictions.npy\"), y_pred)\n",
    "\n",
    "y_test_str = [y_mapping[label] for label in y_test]\n",
    "y_pred_str = [y_mapping[label] for label in y_pred]\n",
    "\n",
    "clf_scores_df, per_class_clf_scores_df = get_clf_report_dfs(\n",
    "    y_true=y_test_str, y_pred=y_pred_str,\n",
    "    clf_scores_path=os.path.join(RESULTS_DIR, f\"{MODEL_NAME}_clf_scores.csv\"),\n",
    "    clf_per_class_scores_path=os.path.join(RESULTS_DIR, f\"{MODEL_NAME}_per_class_clf_scores.csv\")\n",
    ")\n",
    "\n",
    "clf_scores_df"
   ]
  },
  {
   "cell_type": "code",
   "execution_count": 10,
   "id": "f499698e",
   "metadata": {},
   "outputs": [
    {
     "data": {
      "text/html": [
       "<style type=\"text/css\">\n",
       "#T_698b4_row0_col0, #T_698b4_row0_col1, #T_698b4_row0_col2, #T_698b4_row0_col3, #T_698b4_row1_col0, #T_698b4_row2_col3, #T_698b4_row5_col3, #T_698b4_row8_col3, #T_698b4_row11_col3, #T_698b4_row12_col3 {\n",
       "  background-color: #f7fbff;\n",
       "  color: #000000;\n",
       "}\n",
       "#T_698b4_row1_col1, #T_698b4_row4_col1 {\n",
       "  background-color: #2575b7;\n",
       "  color: #f1f1f1;\n",
       "}\n",
       "#T_698b4_row1_col2 {\n",
       "  background-color: #8abfdd;\n",
       "  color: #000000;\n",
       "}\n",
       "#T_698b4_row1_col3, #T_698b4_row4_col3, #T_698b4_row6_col3, #T_698b4_row7_col3, #T_698b4_row9_col0, #T_698b4_row9_col3, #T_698b4_row10_col3, #T_698b4_row14_col0, #T_698b4_row14_col3, #T_698b4_row15_col3, #T_698b4_row16_col3 {\n",
       "  background-color: #6aaed6;\n",
       "  color: #f1f1f1;\n",
       "}\n",
       "#T_698b4_row2_col0, #T_698b4_row3_col1, #T_698b4_row6_col0, #T_698b4_row13_col0 {\n",
       "  background-color: #abd0e6;\n",
       "  color: #000000;\n",
       "}\n",
       "#T_698b4_row2_col1, #T_698b4_row3_col3, #T_698b4_row4_col0, #T_698b4_row5_col0, #T_698b4_row7_col0, #T_698b4_row7_col1, #T_698b4_row7_col2, #T_698b4_row8_col1, #T_698b4_row10_col0, #T_698b4_row11_col1, #T_698b4_row12_col0, #T_698b4_row12_col1, #T_698b4_row12_col2, #T_698b4_row13_col3, #T_698b4_row15_col1, #T_698b4_row16_col1 {\n",
       "  background-color: #08306b;\n",
       "  color: #f1f1f1;\n",
       "}\n",
       "#T_698b4_row2_col2 {\n",
       "  background-color: #2e7ebc;\n",
       "  color: #f1f1f1;\n",
       "}\n",
       "#T_698b4_row3_col0, #T_698b4_row6_col1 {\n",
       "  background-color: #d0e1f2;\n",
       "  color: #000000;\n",
       "}\n",
       "#T_698b4_row3_col2 {\n",
       "  background-color: #b0d2e7;\n",
       "  color: #000000;\n",
       "}\n",
       "#T_698b4_row4_col2, #T_698b4_row8_col2, #T_698b4_row11_col2 {\n",
       "  background-color: #105ba4;\n",
       "  color: #f1f1f1;\n",
       "}\n",
       "#T_698b4_row5_col1 {\n",
       "  background-color: #3787c0;\n",
       "  color: #f1f1f1;\n",
       "}\n",
       "#T_698b4_row5_col2 {\n",
       "  background-color: #1967ad;\n",
       "  color: #f1f1f1;\n",
       "}\n",
       "#T_698b4_row6_col2 {\n",
       "  background-color: #c6dbef;\n",
       "  color: #000000;\n",
       "}\n",
       "#T_698b4_row8_col0, #T_698b4_row11_col0 {\n",
       "  background-color: #4a98c9;\n",
       "  color: #f1f1f1;\n",
       "}\n",
       "#T_698b4_row9_col1, #T_698b4_row10_col1, #T_698b4_row14_col1 {\n",
       "  background-color: #79b5d9;\n",
       "  color: #000000;\n",
       "}\n",
       "#T_698b4_row9_col2, #T_698b4_row13_col2, #T_698b4_row14_col2 {\n",
       "  background-color: #6caed6;\n",
       "  color: #f1f1f1;\n",
       "}\n",
       "#T_698b4_row10_col2 {\n",
       "  background-color: #4191c6;\n",
       "  color: #f1f1f1;\n",
       "}\n",
       "#T_698b4_row13_col1 {\n",
       "  background-color: #58a1cf;\n",
       "  color: #f1f1f1;\n",
       "}\n",
       "#T_698b4_row15_col0, #T_698b4_row16_col0 {\n",
       "  background-color: #89bedc;\n",
       "  color: #000000;\n",
       "}\n",
       "#T_698b4_row15_col2, #T_698b4_row16_col2 {\n",
       "  background-color: #2171b5;\n",
       "  color: #f1f1f1;\n",
       "}\n",
       "</style>\n",
       "<table id=\"T_698b4\">\n",
       "  <thead>\n",
       "    <tr>\n",
       "      <th class=\"blank level0\" >&nbsp;</th>\n",
       "      <th id=\"T_698b4_level0_col0\" class=\"col_heading level0 col0\" >precision</th>\n",
       "      <th id=\"T_698b4_level0_col1\" class=\"col_heading level0 col1\" >recall</th>\n",
       "      <th id=\"T_698b4_level0_col2\" class=\"col_heading level0 col2\" >f1-score</th>\n",
       "      <th id=\"T_698b4_level0_col3\" class=\"col_heading level0 col3\" >support</th>\n",
       "    </tr>\n",
       "  </thead>\n",
       "  <tbody>\n",
       "    <tr>\n",
       "      <th id=\"T_698b4_level0_row0\" class=\"row_heading level0 row0\" >ball</th>\n",
       "      <td id=\"T_698b4_row0_col0\" class=\"data row0 col0\" >0.500000</td>\n",
       "      <td id=\"T_698b4_row0_col1\" class=\"data row0 col1\" >0.250000</td>\n",
       "      <td id=\"T_698b4_row0_col2\" class=\"data row0 col2\" >0.333333</td>\n",
       "      <td id=\"T_698b4_row0_col3\" class=\"data row0 col3\" >4.000000</td>\n",
       "    </tr>\n",
       "    <tr>\n",
       "      <th id=\"T_698b4_level0_row1\" class=\"row_heading level0 row1\" >bigball</th>\n",
       "      <td id=\"T_698b4_row1_col0\" class=\"data row1 col0\" >0.500000</td>\n",
       "      <td id=\"T_698b4_row1_col1\" class=\"data row1 col1\" >0.800000</td>\n",
       "      <td id=\"T_698b4_row1_col2\" class=\"data row1 col2\" >0.615385</td>\n",
       "      <td id=\"T_698b4_row1_col3\" class=\"data row1 col3\" >5.000000</td>\n",
       "    </tr>\n",
       "    <tr>\n",
       "      <th id=\"T_698b4_level0_row2\" class=\"row_heading level0 row2\" >box</th>\n",
       "      <td id=\"T_698b4_row2_col0\" class=\"data row2 col0\" >0.666667</td>\n",
       "      <td id=\"T_698b4_row2_col1\" class=\"data row2 col1\" >1.000000</td>\n",
       "      <td id=\"T_698b4_row2_col2\" class=\"data row2 col2\" >0.800000</td>\n",
       "      <td id=\"T_698b4_row2_col3\" class=\"data row2 col3\" >4.000000</td>\n",
       "    </tr>\n",
       "    <tr>\n",
       "      <th id=\"T_698b4_level0_row3\" class=\"row_heading level0 row3\" >button</th>\n",
       "      <td id=\"T_698b4_row3_col0\" class=\"data row3 col0\" >0.600000</td>\n",
       "      <td id=\"T_698b4_row3_col1\" class=\"data row3 col1\" >0.500000</td>\n",
       "      <td id=\"T_698b4_row3_col2\" class=\"data row3 col2\" >0.545455</td>\n",
       "      <td id=\"T_698b4_row3_col3\" class=\"data row3 col3\" >6.000000</td>\n",
       "    </tr>\n",
       "    <tr>\n",
       "      <th id=\"T_698b4_level0_row4\" class=\"row_heading level0 row4\" >case</th>\n",
       "      <td id=\"T_698b4_row4_col0\" class=\"data row4 col0\" >1.000000</td>\n",
       "      <td id=\"T_698b4_row4_col1\" class=\"data row4 col1\" >0.800000</td>\n",
       "      <td id=\"T_698b4_row4_col2\" class=\"data row4 col2\" >0.888889</td>\n",
       "      <td id=\"T_698b4_row4_col3\" class=\"data row4 col3\" >5.000000</td>\n",
       "    </tr>\n",
       "    <tr>\n",
       "      <th id=\"T_698b4_level0_row5\" class=\"row_heading level0 row5\" >cube</th>\n",
       "      <td id=\"T_698b4_row5_col0\" class=\"data row5 col0\" >1.000000</td>\n",
       "      <td id=\"T_698b4_row5_col1\" class=\"data row5 col1\" >0.750000</td>\n",
       "      <td id=\"T_698b4_row5_col2\" class=\"data row5 col2\" >0.857143</td>\n",
       "      <td id=\"T_698b4_row5_col3\" class=\"data row5 col3\" >4.000000</td>\n",
       "    </tr>\n",
       "    <tr>\n",
       "      <th id=\"T_698b4_level0_row6\" class=\"row_heading level0 row6\" >cylinder</th>\n",
       "      <td id=\"T_698b4_row6_col0\" class=\"data row6 col0\" >0.666667</td>\n",
       "      <td id=\"T_698b4_row6_col1\" class=\"data row6 col1\" >0.400000</td>\n",
       "      <td id=\"T_698b4_row6_col2\" class=\"data row6 col2\" >0.500000</td>\n",
       "      <td id=\"T_698b4_row6_col3\" class=\"data row6 col3\" >5.000000</td>\n",
       "    </tr>\n",
       "    <tr>\n",
       "      <th id=\"T_698b4_level0_row7\" class=\"row_heading level0 row7\" >empty</th>\n",
       "      <td id=\"T_698b4_row7_col0\" class=\"data row7 col0\" >1.000000</td>\n",
       "      <td id=\"T_698b4_row7_col1\" class=\"data row7 col1\" >1.000000</td>\n",
       "      <td id=\"T_698b4_row7_col2\" class=\"data row7 col2\" >1.000000</td>\n",
       "      <td id=\"T_698b4_row7_col3\" class=\"data row7 col3\" >5.000000</td>\n",
       "    </tr>\n",
       "    <tr>\n",
       "      <th id=\"T_698b4_level0_row8\" class=\"row_heading level0 row8\" >jenga</th>\n",
       "      <td id=\"T_698b4_row8_col0\" class=\"data row8 col0\" >0.800000</td>\n",
       "      <td id=\"T_698b4_row8_col1\" class=\"data row8 col1\" >1.000000</td>\n",
       "      <td id=\"T_698b4_row8_col2\" class=\"data row8 col2\" >0.888889</td>\n",
       "      <td id=\"T_698b4_row8_col3\" class=\"data row8 col3\" >4.000000</td>\n",
       "    </tr>\n",
       "    <tr>\n",
       "      <th id=\"T_698b4_level0_row9\" class=\"row_heading level0 row9\" >labello</th>\n",
       "      <td id=\"T_698b4_row9_col0\" class=\"data row9 col0\" >0.750000</td>\n",
       "      <td id=\"T_698b4_row9_col1\" class=\"data row9 col1\" >0.600000</td>\n",
       "      <td id=\"T_698b4_row9_col2\" class=\"data row9 col2\" >0.666667</td>\n",
       "      <td id=\"T_698b4_row9_col3\" class=\"data row9 col3\" >5.000000</td>\n",
       "    </tr>\n",
       "    <tr>\n",
       "      <th id=\"T_698b4_level0_row10\" class=\"row_heading level0 row10\" >lemon</th>\n",
       "      <td id=\"T_698b4_row10_col0\" class=\"data row10 col0\" >1.000000</td>\n",
       "      <td id=\"T_698b4_row10_col1\" class=\"data row10 col1\" >0.600000</td>\n",
       "      <td id=\"T_698b4_row10_col2\" class=\"data row10 col2\" >0.750000</td>\n",
       "      <td id=\"T_698b4_row10_col3\" class=\"data row10 col3\" >5.000000</td>\n",
       "    </tr>\n",
       "    <tr>\n",
       "      <th id=\"T_698b4_level0_row11\" class=\"row_heading level0 row11\" >metalbrick</th>\n",
       "      <td id=\"T_698b4_row11_col0\" class=\"data row11 col0\" >0.800000</td>\n",
       "      <td id=\"T_698b4_row11_col1\" class=\"data row11 col1\" >1.000000</td>\n",
       "      <td id=\"T_698b4_row11_col2\" class=\"data row11 col2\" >0.888889</td>\n",
       "      <td id=\"T_698b4_row11_col3\" class=\"data row11 col3\" >4.000000</td>\n",
       "    </tr>\n",
       "    <tr>\n",
       "      <th id=\"T_698b4_level0_row12\" class=\"row_heading level0 row12\" >parallelepiped</th>\n",
       "      <td id=\"T_698b4_row12_col0\" class=\"data row12 col0\" >1.000000</td>\n",
       "      <td id=\"T_698b4_row12_col1\" class=\"data row12 col1\" >1.000000</td>\n",
       "      <td id=\"T_698b4_row12_col2\" class=\"data row12 col2\" >1.000000</td>\n",
       "      <td id=\"T_698b4_row12_col3\" class=\"data row12 col3\" >4.000000</td>\n",
       "    </tr>\n",
       "    <tr>\n",
       "      <th id=\"T_698b4_level0_row13\" class=\"row_heading level0 row13\" >smallbutton</th>\n",
       "      <td id=\"T_698b4_row13_col0\" class=\"data row13 col0\" >0.666667</td>\n",
       "      <td id=\"T_698b4_row13_col1\" class=\"data row13 col1\" >0.666667</td>\n",
       "      <td id=\"T_698b4_row13_col2\" class=\"data row13 col2\" >0.666667</td>\n",
       "      <td id=\"T_698b4_row13_col3\" class=\"data row13 col3\" >6.000000</td>\n",
       "    </tr>\n",
       "    <tr>\n",
       "      <th id=\"T_698b4_level0_row14\" class=\"row_heading level0 row14\" >smallcube</th>\n",
       "      <td id=\"T_698b4_row14_col0\" class=\"data row14 col0\" >0.750000</td>\n",
       "      <td id=\"T_698b4_row14_col1\" class=\"data row14 col1\" >0.600000</td>\n",
       "      <td id=\"T_698b4_row14_col2\" class=\"data row14 col2\" >0.666667</td>\n",
       "      <td id=\"T_698b4_row14_col3\" class=\"data row14 col3\" >5.000000</td>\n",
       "    </tr>\n",
       "    <tr>\n",
       "      <th id=\"T_698b4_level0_row15\" class=\"row_heading level0 row15\" >syringe</th>\n",
       "      <td id=\"T_698b4_row15_col0\" class=\"data row15 col0\" >0.714286</td>\n",
       "      <td id=\"T_698b4_row15_col1\" class=\"data row15 col1\" >1.000000</td>\n",
       "      <td id=\"T_698b4_row15_col2\" class=\"data row15 col2\" >0.833333</td>\n",
       "      <td id=\"T_698b4_row15_col3\" class=\"data row15 col3\" >5.000000</td>\n",
       "    </tr>\n",
       "    <tr>\n",
       "      <th id=\"T_698b4_level0_row16\" class=\"row_heading level0 row16\" >tomato</th>\n",
       "      <td id=\"T_698b4_row16_col0\" class=\"data row16 col0\" >0.714286</td>\n",
       "      <td id=\"T_698b4_row16_col1\" class=\"data row16 col1\" >1.000000</td>\n",
       "      <td id=\"T_698b4_row16_col2\" class=\"data row16 col2\" >0.833333</td>\n",
       "      <td id=\"T_698b4_row16_col3\" class=\"data row16 col3\" >5.000000</td>\n",
       "    </tr>\n",
       "  </tbody>\n",
       "</table>\n"
      ],
      "text/plain": [
       "<pandas.io.formats.style.Styler at 0x3043270d0>"
      ]
     },
     "execution_count": 10,
     "metadata": {},
     "output_type": "execute_result"
    }
   ],
   "source": [
    "per_class_clf_scores_df.style.background_gradient(cmap=\"Blues\")"
   ]
  },
  {
   "cell_type": "code",
   "execution_count": 11,
   "id": "cc43bdff",
   "metadata": {},
   "outputs": [
    {
     "data": {
      "image/png": "[encoded data removed]",
      "text/plain": [
       "<Figure size 640x480 with 2 Axes>"
      ]
     },
     "metadata": {},
     "output_type": "display_data"
    }
   ],
   "source": [
    "plot_confusion_matrix(\n",
    "    y_true=y_test_str,\n",
    "    y_pred=y_pred_str,\n",
    "    title=f\"{MODEL_NAME} Confusion Matrix\",\n",
    "    path=os.path.join(RESULTS_DIR, f\"{MODEL_NAME}_confusion_matrix.png\")\n",
    ")"
   ]
  }
 ],
 "metadata": {
  "kernelspec": {
   "display_name": "robotics",
   "language": "python",
   "name": "python3"
  },
  "language_info": {
   "codemirror_mode": {
    "name": "ipython",
    "version": 3
   },
   "file_extension": ".py",
   "mimetype": "text/x-python",
   "name": "python",
   "nbconvert_exporter": "python",
   "pygments_lexer": "ipython3",
   "version": "3.11.11"
  }
 },
 "nbformat": 4,
 "nbformat_minor": 5
}
