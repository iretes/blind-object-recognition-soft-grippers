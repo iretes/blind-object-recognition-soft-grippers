{
 "cells": [
  {
   "cell_type": "code",
   "execution_count": 1,
   "id": "dbeca379",
   "metadata": {},
   "outputs": [],
   "source": [
    "import os\n",
    "import pickle\n",
    "import numpy as np\n",
    "import pandas as pd\n",
    "from sklearn.metrics import f1_score\n",
    "from tslearn.neighbors import KNeighborsTimeSeriesClassifier\n",
    "from utils import get_clf_report_dfs, plot_confusion_matrix"
   ]
  },
  {
   "cell_type": "code",
   "execution_count": 2,
   "id": "38b6e227",
   "metadata": {},
   "outputs": [],
   "source": [
    "RANDOM_SEED=42\n",
    "RESULTS_DIR=\"./results\"\n",
    "MODEL_NAME=\"DTW+KNN\"\n",
    "np.random.seed(RANDOM_SEED)"
   ]
  },
  {
   "cell_type": "code",
   "execution_count": null,
   "id": "2ab2671f",
   "metadata": {},
   "outputs": [],
   "source": [
    "data = np.load('./dataset/dataset.npz')\n",
    "X_train = data['X_train']\n",
    "y_train = data['y_train']\n",
    "X_val = data['X_val']\n",
    "y_val = data['y_val']\n",
    "X_test = data['X_test']\n",
    "y_test = data['y_test']\n",
    "y_mapping = data['y_mapping']"
   ]
  },
  {
   "cell_type": "code",
   "execution_count": 4,
   "id": "d62881f2",
   "metadata": {},
   "outputs": [
    {
     "name": "stdout",
     "output_type": "stream",
     "text": [
      "Training with n_neighbors=1, weights=uniform\n"
     ]
    },
    {
     "name": "stderr",
     "output_type": "stream",
     "text": [
      "/Users/irenetesta/anaconda3/envs/robotics/lib/python3.11/site-packages/sklearn/utils/deprecation.py:151: FutureWarning: 'force_all_finite' was renamed to 'ensure_all_finite' in 1.6 and will be removed in 1.8.\n",
      "  warnings.warn(\n",
      "/Users/irenetesta/anaconda3/envs/robotics/lib/python3.11/site-packages/sklearn/utils/deprecation.py:151: FutureWarning: 'force_all_finite' was renamed to 'ensure_all_finite' in 1.6 and will be removed in 1.8.\n",
      "  warnings.warn(\n"
     ]
    },
    {
     "name": "stdout",
     "output_type": "stream",
     "text": [
      "Training with n_neighbors=1, weights=distance\n"
     ]
    },
    {
     "name": "stderr",
     "output_type": "stream",
     "text": [
      "/Users/irenetesta/anaconda3/envs/robotics/lib/python3.11/site-packages/sklearn/utils/deprecation.py:151: FutureWarning: 'force_all_finite' was renamed to 'ensure_all_finite' in 1.6 and will be removed in 1.8.\n",
      "  warnings.warn(\n",
      "/Users/irenetesta/anaconda3/envs/robotics/lib/python3.11/site-packages/sklearn/utils/deprecation.py:151: FutureWarning: 'force_all_finite' was renamed to 'ensure_all_finite' in 1.6 and will be removed in 1.8.\n",
      "  warnings.warn(\n"
     ]
    },
    {
     "name": "stdout",
     "output_type": "stream",
     "text": [
      "Training with n_neighbors=3, weights=uniform\n"
     ]
    },
    {
     "name": "stderr",
     "output_type": "stream",
     "text": [
      "/Users/irenetesta/anaconda3/envs/robotics/lib/python3.11/site-packages/sklearn/utils/deprecation.py:151: FutureWarning: 'force_all_finite' was renamed to 'ensure_all_finite' in 1.6 and will be removed in 1.8.\n",
      "  warnings.warn(\n",
      "/Users/irenetesta/anaconda3/envs/robotics/lib/python3.11/site-packages/sklearn/utils/deprecation.py:151: FutureWarning: 'force_all_finite' was renamed to 'ensure_all_finite' in 1.6 and will be removed in 1.8.\n",
      "  warnings.warn(\n"
     ]
    },
    {
     "name": "stdout",
     "output_type": "stream",
     "text": [
      "Training with n_neighbors=3, weights=distance\n"
     ]
    },
    {
     "name": "stderr",
     "output_type": "stream",
     "text": [
      "/Users/irenetesta/anaconda3/envs/robotics/lib/python3.11/site-packages/sklearn/utils/deprecation.py:151: FutureWarning: 'force_all_finite' was renamed to 'ensure_all_finite' in 1.6 and will be removed in 1.8.\n",
      "  warnings.warn(\n",
      "/Users/irenetesta/anaconda3/envs/robotics/lib/python3.11/site-packages/sklearn/utils/deprecation.py:151: FutureWarning: 'force_all_finite' was renamed to 'ensure_all_finite' in 1.6 and will be removed in 1.8.\n",
      "  warnings.warn(\n"
     ]
    },
    {
     "name": "stdout",
     "output_type": "stream",
     "text": [
      "Training with n_neighbors=5, weights=uniform\n"
     ]
    },
    {
     "name": "stderr",
     "output_type": "stream",
     "text": [
      "/Users/irenetesta/anaconda3/envs/robotics/lib/python3.11/site-packages/sklearn/utils/deprecation.py:151: FutureWarning: 'force_all_finite' was renamed to 'ensure_all_finite' in 1.6 and will be removed in 1.8.\n",
      "  warnings.warn(\n",
      "/Users/irenetesta/anaconda3/envs/robotics/lib/python3.11/site-packages/sklearn/utils/deprecation.py:151: FutureWarning: 'force_all_finite' was renamed to 'ensure_all_finite' in 1.6 and will be removed in 1.8.\n",
      "  warnings.warn(\n"
     ]
    },
    {
     "name": "stdout",
     "output_type": "stream",
     "text": [
      "Training with n_neighbors=5, weights=distance\n"
     ]
    },
    {
     "name": "stderr",
     "output_type": "stream",
     "text": [
      "/Users/irenetesta/anaconda3/envs/robotics/lib/python3.11/site-packages/sklearn/utils/deprecation.py:151: FutureWarning: 'force_all_finite' was renamed to 'ensure_all_finite' in 1.6 and will be removed in 1.8.\n",
      "  warnings.warn(\n",
      "/Users/irenetesta/anaconda3/envs/robotics/lib/python3.11/site-packages/sklearn/utils/deprecation.py:151: FutureWarning: 'force_all_finite' was renamed to 'ensure_all_finite' in 1.6 and will be removed in 1.8.\n",
      "  warnings.warn(\n"
     ]
    },
    {
     "name": "stdout",
     "output_type": "stream",
     "text": [
      "Training with n_neighbors=9, weights=uniform\n"
     ]
    },
    {
     "name": "stderr",
     "output_type": "stream",
     "text": [
      "/Users/irenetesta/anaconda3/envs/robotics/lib/python3.11/site-packages/sklearn/utils/deprecation.py:151: FutureWarning: 'force_all_finite' was renamed to 'ensure_all_finite' in 1.6 and will be removed in 1.8.\n",
      "  warnings.warn(\n",
      "/Users/irenetesta/anaconda3/envs/robotics/lib/python3.11/site-packages/sklearn/utils/deprecation.py:151: FutureWarning: 'force_all_finite' was renamed to 'ensure_all_finite' in 1.6 and will be removed in 1.8.\n",
      "  warnings.warn(\n"
     ]
    },
    {
     "name": "stdout",
     "output_type": "stream",
     "text": [
      "Training with n_neighbors=9, weights=distance\n"
     ]
    },
    {
     "name": "stderr",
     "output_type": "stream",
     "text": [
      "/Users/irenetesta/anaconda3/envs/robotics/lib/python3.11/site-packages/sklearn/utils/deprecation.py:151: FutureWarning: 'force_all_finite' was renamed to 'ensure_all_finite' in 1.6 and will be removed in 1.8.\n",
      "  warnings.warn(\n",
      "/Users/irenetesta/anaconda3/envs/robotics/lib/python3.11/site-packages/sklearn/utils/deprecation.py:151: FutureWarning: 'force_all_finite' was renamed to 'ensure_all_finite' in 1.6 and will be removed in 1.8.\n",
      "  warnings.warn(\n"
     ]
    },
    {
     "name": "stdout",
     "output_type": "stream",
     "text": [
      "Training with n_neighbors=15, weights=uniform\n"
     ]
    },
    {
     "name": "stderr",
     "output_type": "stream",
     "text": [
      "/Users/irenetesta/anaconda3/envs/robotics/lib/python3.11/site-packages/sklearn/utils/deprecation.py:151: FutureWarning: 'force_all_finite' was renamed to 'ensure_all_finite' in 1.6 and will be removed in 1.8.\n",
      "  warnings.warn(\n",
      "/Users/irenetesta/anaconda3/envs/robotics/lib/python3.11/site-packages/sklearn/utils/deprecation.py:151: FutureWarning: 'force_all_finite' was renamed to 'ensure_all_finite' in 1.6 and will be removed in 1.8.\n",
      "  warnings.warn(\n"
     ]
    },
    {
     "name": "stdout",
     "output_type": "stream",
     "text": [
      "Training with n_neighbors=15, weights=distance\n"
     ]
    },
    {
     "name": "stderr",
     "output_type": "stream",
     "text": [
      "/Users/irenetesta/anaconda3/envs/robotics/lib/python3.11/site-packages/sklearn/utils/deprecation.py:151: FutureWarning: 'force_all_finite' was renamed to 'ensure_all_finite' in 1.6 and will be removed in 1.8.\n",
      "  warnings.warn(\n",
      "/Users/irenetesta/anaconda3/envs/robotics/lib/python3.11/site-packages/sklearn/utils/deprecation.py:151: FutureWarning: 'force_all_finite' was renamed to 'ensure_all_finite' in 1.6 and will be removed in 1.8.\n",
      "  warnings.warn(\n"
     ]
    },
    {
     "data": {
      "text/html": [
       "<style type=\"text/css\">\n",
       "#T_19c9f_row0_col2, #T_19c9f_row1_col2 {\n",
       "  background-color: #08306b;\n",
       "  color: #f1f1f1;\n",
       "}\n",
       "#T_19c9f_row2_col2 {\n",
       "  background-color: #2575b7;\n",
       "  color: #f1f1f1;\n",
       "}\n",
       "#T_19c9f_row3_col2 {\n",
       "  background-color: #4d99ca;\n",
       "  color: #f1f1f1;\n",
       "}\n",
       "#T_19c9f_row4_col2 {\n",
       "  background-color: #85bcdc;\n",
       "  color: #000000;\n",
       "}\n",
       "#T_19c9f_row5_col2 {\n",
       "  background-color: #91c3de;\n",
       "  color: #000000;\n",
       "}\n",
       "#T_19c9f_row6_col2 {\n",
       "  background-color: #92c4de;\n",
       "  color: #000000;\n",
       "}\n",
       "#T_19c9f_row7_col2 {\n",
       "  background-color: #b4d3e9;\n",
       "  color: #000000;\n",
       "}\n",
       "#T_19c9f_row8_col2 {\n",
       "  background-color: #b7d4ea;\n",
       "  color: #000000;\n",
       "}\n",
       "#T_19c9f_row9_col2 {\n",
       "  background-color: #f7fbff;\n",
       "  color: #000000;\n",
       "}\n",
       "</style>\n",
       "<table id=\"T_19c9f\">\n",
       "  <thead>\n",
       "    <tr>\n",
       "      <th class=\"blank level0\" >&nbsp;</th>\n",
       "      <th id=\"T_19c9f_level0_col0\" class=\"col_heading level0 col0\" >n_neighbors</th>\n",
       "      <th id=\"T_19c9f_level0_col1\" class=\"col_heading level0 col1\" >weights</th>\n",
       "      <th id=\"T_19c9f_level0_col2\" class=\"col_heading level0 col2\" >f1 weighted</th>\n",
       "    </tr>\n",
       "  </thead>\n",
       "  <tbody>\n",
       "    <tr>\n",
       "      <th id=\"T_19c9f_level0_row0\" class=\"row_heading level0 row0\" >0</th>\n",
       "      <td id=\"T_19c9f_row0_col0\" class=\"data row0 col0\" >1</td>\n",
       "      <td id=\"T_19c9f_row0_col1\" class=\"data row0 col1\" >uniform</td>\n",
       "      <td id=\"T_19c9f_row0_col2\" class=\"data row0 col2\" >0.798551</td>\n",
       "    </tr>\n",
       "    <tr>\n",
       "      <th id=\"T_19c9f_level0_row1\" class=\"row_heading level0 row1\" >1</th>\n",
       "      <td id=\"T_19c9f_row1_col0\" class=\"data row1 col0\" >1</td>\n",
       "      <td id=\"T_19c9f_row1_col1\" class=\"data row1 col1\" >distance</td>\n",
       "      <td id=\"T_19c9f_row1_col2\" class=\"data row1 col2\" >0.798551</td>\n",
       "    </tr>\n",
       "    <tr>\n",
       "      <th id=\"T_19c9f_level0_row2\" class=\"row_heading level0 row2\" >3</th>\n",
       "      <td id=\"T_19c9f_row2_col0\" class=\"data row2 col0\" >3</td>\n",
       "      <td id=\"T_19c9f_row2_col1\" class=\"data row2 col1\" >distance</td>\n",
       "      <td id=\"T_19c9f_row2_col2\" class=\"data row2 col2\" >0.753876</td>\n",
       "    </tr>\n",
       "    <tr>\n",
       "      <th id=\"T_19c9f_level0_row3\" class=\"row_heading level0 row3\" >5</th>\n",
       "      <td id=\"T_19c9f_row3_col0\" class=\"data row3 col0\" >5</td>\n",
       "      <td id=\"T_19c9f_row3_col1\" class=\"data row3 col1\" >distance</td>\n",
       "      <td id=\"T_19c9f_row3_col2\" class=\"data row3 col2\" >0.729910</td>\n",
       "    </tr>\n",
       "    <tr>\n",
       "      <th id=\"T_19c9f_level0_row4\" class=\"row_heading level0 row4\" >4</th>\n",
       "      <td id=\"T_19c9f_row4_col0\" class=\"data row4 col0\" >5</td>\n",
       "      <td id=\"T_19c9f_row4_col1\" class=\"data row4 col1\" >uniform</td>\n",
       "      <td id=\"T_19c9f_row4_col2\" class=\"data row4 col2\" >0.704030</td>\n",
       "    </tr>\n",
       "    <tr>\n",
       "      <th id=\"T_19c9f_level0_row5\" class=\"row_heading level0 row5\" >2</th>\n",
       "      <td id=\"T_19c9f_row5_col0\" class=\"data row5 col0\" >3</td>\n",
       "      <td id=\"T_19c9f_row5_col1\" class=\"data row5 col1\" >uniform</td>\n",
       "      <td id=\"T_19c9f_row5_col2\" class=\"data row5 col2\" >0.699196</td>\n",
       "    </tr>\n",
       "    <tr>\n",
       "      <th id=\"T_19c9f_level0_row6\" class=\"row_heading level0 row6\" >6</th>\n",
       "      <td id=\"T_19c9f_row6_col0\" class=\"data row6 col0\" >9</td>\n",
       "      <td id=\"T_19c9f_row6_col1\" class=\"data row6 col1\" >uniform</td>\n",
       "      <td id=\"T_19c9f_row6_col2\" class=\"data row6 col2\" >0.698479</td>\n",
       "    </tr>\n",
       "    <tr>\n",
       "      <th id=\"T_19c9f_level0_row7\" class=\"row_heading level0 row7\" >7</th>\n",
       "      <td id=\"T_19c9f_row7_col0\" class=\"data row7 col0\" >9</td>\n",
       "      <td id=\"T_19c9f_row7_col1\" class=\"data row7 col1\" >distance</td>\n",
       "      <td id=\"T_19c9f_row7_col2\" class=\"data row7 col2\" >0.682488</td>\n",
       "    </tr>\n",
       "    <tr>\n",
       "      <th id=\"T_19c9f_level0_row8\" class=\"row_heading level0 row8\" >9</th>\n",
       "      <td id=\"T_19c9f_row8_col0\" class=\"data row8 col0\" >15</td>\n",
       "      <td id=\"T_19c9f_row8_col1\" class=\"data row8 col1\" >distance</td>\n",
       "      <td id=\"T_19c9f_row8_col2\" class=\"data row8 col2\" >0.680875</td>\n",
       "    </tr>\n",
       "    <tr>\n",
       "      <th id=\"T_19c9f_level0_row9\" class=\"row_heading level0 row9\" >8</th>\n",
       "      <td id=\"T_19c9f_row9_col0\" class=\"data row9 col0\" >15</td>\n",
       "      <td id=\"T_19c9f_row9_col1\" class=\"data row9 col1\" >uniform</td>\n",
       "      <td id=\"T_19c9f_row9_col2\" class=\"data row9 col2\" >0.630826</td>\n",
       "    </tr>\n",
       "  </tbody>\n",
       "</table>\n"
      ],
      "text/plain": [
       "<pandas.io.formats.style.Styler at 0x13cfb6650>"
      ]
     },
     "execution_count": 4,
     "metadata": {},
     "output_type": "execute_result"
    }
   ],
   "source": [
    "param_grid = {\n",
    "        'n_neighbors': [1, 3, 5, 9, 15], # odd values to avoid ties\n",
    "        'weights': ['uniform', 'distance']\n",
    "}\n",
    "\n",
    "trials = [] \n",
    "best_score = 0.0\n",
    "best_model = None\n",
    "for k in param_grid[\"n_neighbors\"]:\n",
    "    for weight in param_grid[\"weights\"]:\n",
    "        print(f\"Training with n_neighbors={k}, weights={weight}\")\n",
    "        clf = KNeighborsTimeSeriesClassifier(n_neighbors=k, weights=weight, metric='dtw')\n",
    "        clf.fit(X_train, y_train)\n",
    "        val_preds = clf.predict(X_val)\n",
    "        f1 = f1_score(y_true=y_val, y_pred=val_preds, average='weighted')\n",
    "        trials.append({\n",
    "            'n_neighbors': k,\n",
    "            'weights': weight,\n",
    "            'f1 weighted': f1\n",
    "        })\n",
    "        if f1 > best_score:\n",
    "            best_score = f1\n",
    "            best_model = clf\n",
    "\n",
    "trials_df = pd.DataFrame(trials).sort_values(by='f1 weighted', ascending=False)\n",
    "trials_df.style.background_gradient(cmap='Blues', subset=['f1 weighted'])"
   ]
  },
  {
   "cell_type": "code",
   "execution_count": 5,
   "id": "b848fe0c",
   "metadata": {},
   "outputs": [],
   "source": [
    "file = open(os.path.join(RESULTS_DIR, f\"{MODEL_NAME}.pkl\"), 'wb')\n",
    "pickle.dump(obj=best_model, file=file)\n",
    "file.close()"
   ]
  },
  {
   "cell_type": "code",
   "execution_count": 6,
   "id": "e31b41f0",
   "metadata": {},
   "outputs": [
    {
     "name": "stderr",
     "output_type": "stream",
     "text": [
      "/Users/irenetesta/anaconda3/envs/robotics/lib/python3.11/site-packages/sklearn/utils/deprecation.py:151: FutureWarning: 'force_all_finite' was renamed to 'ensure_all_finite' in 1.6 and will be removed in 1.8.\n",
      "  warnings.warn(\n"
     ]
    },
    {
     "data": {
      "text/html": [
       "<div>\n",
       "<style scoped>\n",
       "    .dataframe tbody tr th:only-of-type {\n",
       "        vertical-align: middle;\n",
       "    }\n",
       "\n",
       "    .dataframe tbody tr th {\n",
       "        vertical-align: top;\n",
       "    }\n",
       "\n",
       "    .dataframe thead th {\n",
       "        text-align: right;\n",
       "    }\n",
       "</style>\n",
       "<table border=\"1\" class=\"dataframe\">\n",
       "  <thead>\n",
       "    <tr style=\"text-align: right;\">\n",
       "      <th></th>\n",
       "      <th>accuracy</th>\n",
       "      <th>f1-score macro avg</th>\n",
       "      <th>f1-score weighted avg</th>\n",
       "      <th>precision macro avg</th>\n",
       "      <th>precision weighted avg</th>\n",
       "      <th>recall macro avg</th>\n",
       "      <th>recall weighted avg</th>\n",
       "    </tr>\n",
       "  </thead>\n",
       "  <tbody>\n",
       "    <tr>\n",
       "      <th>0</th>\n",
       "      <td>0.769231</td>\n",
       "      <td>0.770047</td>\n",
       "      <td>0.765284</td>\n",
       "      <td>0.796652</td>\n",
       "      <td>0.797573</td>\n",
       "      <td>0.780208</td>\n",
       "      <td>0.769231</td>\n",
       "    </tr>\n",
       "  </tbody>\n",
       "</table>\n",
       "</div>"
      ],
      "text/plain": [
       "   accuracy  f1-score macro avg  f1-score weighted avg  precision macro avg  \\\n",
       "0  0.769231            0.770047               0.765284             0.796652   \n",
       "\n",
       "   precision weighted avg  recall macro avg  recall weighted avg  \n",
       "0                0.797573          0.780208             0.769231  "
      ]
     },
     "execution_count": 6,
     "metadata": {},
     "output_type": "execute_result"
    }
   ],
   "source": [
    "y_pred = best_model.predict(X_test)\n",
    "\n",
    "y_test_str = [y_mapping[label] for label in y_test]\n",
    "y_pred_str = [y_mapping[label] for label in y_pred]\n",
    "\n",
    "clf_scores_df, per_class_clf_scores_df = get_clf_report_dfs(\n",
    "    y_true=y_test_str, y_pred=y_pred_str,\n",
    "    clf_scores_path=os.path.join(RESULTS_DIR, f\"{MODEL_NAME}_clf_scores.csv\"),\n",
    "    clf_per_class_scores_path=os.path.join(RESULTS_DIR, f\"{MODEL_NAME}_per_class_clf_scores.csv\")\n",
    ")\n",
    "\n",
    "clf_scores_df"
   ]
  },
  {
   "cell_type": "code",
   "execution_count": 7,
   "id": "ff6f76a8",
   "metadata": {},
   "outputs": [
    {
     "data": {
      "text/html": [
       "<style type=\"text/css\">\n",
       "#T_2b215_row0_col0, #T_2b215_row1_col3, #T_2b215_row2_col3, #T_2b215_row4_col3, #T_2b215_row5_col3, #T_2b215_row6_col3, #T_2b215_row7_col3, #T_2b215_row8_col3, #T_2b215_row9_col3, #T_2b215_row10_col3, #T_2b215_row13_col3 {\n",
       "  background-color: #6aaed6;\n",
       "  color: #f1f1f1;\n",
       "}\n",
       "#T_2b215_row0_col1, #T_2b215_row6_col2 {\n",
       "  background-color: #4f9bcb;\n",
       "  color: #f1f1f1;\n",
       "}\n",
       "#T_2b215_row0_col2, #T_2b215_row1_col2, #T_2b215_row2_col2, #T_2b215_row10_col2 {\n",
       "  background-color: #5ba3d0;\n",
       "  color: #f1f1f1;\n",
       "}\n",
       "#T_2b215_row0_col3, #T_2b215_row9_col0, #T_2b215_row9_col1, #T_2b215_row9_col2, #T_2b215_row11_col3, #T_2b215_row14_col3, #T_2b215_row15_col3 {\n",
       "  background-color: #f7fbff;\n",
       "  color: #000000;\n",
       "}\n",
       "#T_2b215_row1_col0, #T_2b215_row2_col0, #T_2b215_row3_col0, #T_2b215_row3_col3, #T_2b215_row6_col1, #T_2b215_row7_col1, #T_2b215_row10_col0, #T_2b215_row11_col1, #T_2b215_row12_col3, #T_2b215_row14_col0, #T_2b215_row14_col1, #T_2b215_row14_col2, #T_2b215_row15_col1 {\n",
       "  background-color: #08306b;\n",
       "  color: #f1f1f1;\n",
       "}\n",
       "#T_2b215_row1_col1, #T_2b215_row2_col1, #T_2b215_row4_col0, #T_2b215_row10_col1 {\n",
       "  background-color: #abd0e6;\n",
       "  color: #000000;\n",
       "}\n",
       "#T_2b215_row3_col1 {\n",
       "  background-color: #2979b9;\n",
       "  color: #f1f1f1;\n",
       "}\n",
       "#T_2b215_row3_col2, #T_2b215_row7_col2 {\n",
       "  background-color: #0f5aa3;\n",
       "  color: #f1f1f1;\n",
       "}\n",
       "#T_2b215_row4_col1, #T_2b215_row5_col1, #T_2b215_row7_col0, #T_2b215_row8_col1, #T_2b215_row13_col1 {\n",
       "  background-color: #3787c0;\n",
       "  color: #f1f1f1;\n",
       "}\n",
       "#T_2b215_row4_col2, #T_2b215_row15_col2 {\n",
       "  background-color: #68acd5;\n",
       "  color: #f1f1f1;\n",
       "}\n",
       "#T_2b215_row5_col0, #T_2b215_row8_col0, #T_2b215_row11_col0, #T_2b215_row13_col0 {\n",
       "  background-color: #4a98c9;\n",
       "  color: #f1f1f1;\n",
       "}\n",
       "#T_2b215_row5_col2, #T_2b215_row8_col2, #T_2b215_row13_col2 {\n",
       "  background-color: #3e8ec4;\n",
       "  color: #f1f1f1;\n",
       "}\n",
       "#T_2b215_row6_col0 {\n",
       "  background-color: #c6dbef;\n",
       "  color: #000000;\n",
       "}\n",
       "#T_2b215_row11_col2 {\n",
       "  background-color: #1764ab;\n",
       "  color: #f1f1f1;\n",
       "}\n",
       "#T_2b215_row12_col0 {\n",
       "  background-color: #d0e1f2;\n",
       "  color: #000000;\n",
       "}\n",
       "#T_2b215_row12_col1 {\n",
       "  background-color: #d6e6f4;\n",
       "  color: #000000;\n",
       "}\n",
       "#T_2b215_row12_col2 {\n",
       "  background-color: #d3e4f3;\n",
       "  color: #000000;\n",
       "}\n",
       "#T_2b215_row15_col0 {\n",
       "  background-color: #dbe9f6;\n",
       "  color: #000000;\n",
       "}\n",
       "</style>\n",
       "<table id=\"T_2b215\">\n",
       "  <thead>\n",
       "    <tr>\n",
       "      <th class=\"blank level0\" >&nbsp;</th>\n",
       "      <th id=\"T_2b215_level0_col0\" class=\"col_heading level0 col0\" >precision</th>\n",
       "      <th id=\"T_2b215_level0_col1\" class=\"col_heading level0 col1\" >recall</th>\n",
       "      <th id=\"T_2b215_level0_col2\" class=\"col_heading level0 col2\" >f1-score</th>\n",
       "      <th id=\"T_2b215_level0_col3\" class=\"col_heading level0 col3\" >support</th>\n",
       "    </tr>\n",
       "  </thead>\n",
       "  <tbody>\n",
       "    <tr>\n",
       "      <th id=\"T_2b215_level0_row0\" class=\"row_heading level0 row0\" >ball</th>\n",
       "      <td id=\"T_2b215_row0_col0\" class=\"data row0 col0\" >0.750000</td>\n",
       "      <td id=\"T_2b215_row0_col1\" class=\"data row0 col1\" >0.750000</td>\n",
       "      <td id=\"T_2b215_row0_col2\" class=\"data row0 col2\" >0.750000</td>\n",
       "      <td id=\"T_2b215_row0_col3\" class=\"data row0 col3\" >4.000000</td>\n",
       "    </tr>\n",
       "    <tr>\n",
       "      <th id=\"T_2b215_level0_row1\" class=\"row_heading level0 row1\" >bigball</th>\n",
       "      <td id=\"T_2b215_row1_col0\" class=\"data row1 col0\" >1.000000</td>\n",
       "      <td id=\"T_2b215_row1_col1\" class=\"data row1 col1\" >0.600000</td>\n",
       "      <td id=\"T_2b215_row1_col2\" class=\"data row1 col2\" >0.750000</td>\n",
       "      <td id=\"T_2b215_row1_col3\" class=\"data row1 col3\" >5.000000</td>\n",
       "    </tr>\n",
       "    <tr>\n",
       "      <th id=\"T_2b215_level0_row2\" class=\"row_heading level0 row2\" >box</th>\n",
       "      <td id=\"T_2b215_row2_col0\" class=\"data row2 col0\" >1.000000</td>\n",
       "      <td id=\"T_2b215_row2_col1\" class=\"data row2 col1\" >0.600000</td>\n",
       "      <td id=\"T_2b215_row2_col2\" class=\"data row2 col2\" >0.750000</td>\n",
       "      <td id=\"T_2b215_row2_col3\" class=\"data row2 col3\" >5.000000</td>\n",
       "    </tr>\n",
       "    <tr>\n",
       "      <th id=\"T_2b215_level0_row3\" class=\"row_heading level0 row3\" >button</th>\n",
       "      <td id=\"T_2b215_row3_col0\" class=\"data row3 col0\" >1.000000</td>\n",
       "      <td id=\"T_2b215_row3_col1\" class=\"data row3 col1\" >0.833333</td>\n",
       "      <td id=\"T_2b215_row3_col2\" class=\"data row3 col2\" >0.909091</td>\n",
       "      <td id=\"T_2b215_row3_col3\" class=\"data row3 col3\" >6.000000</td>\n",
       "    </tr>\n",
       "    <tr>\n",
       "      <th id=\"T_2b215_level0_row4\" class=\"row_heading level0 row4\" >case</th>\n",
       "      <td id=\"T_2b215_row4_col0\" class=\"data row4 col0\" >0.666667</td>\n",
       "      <td id=\"T_2b215_row4_col1\" class=\"data row4 col1\" >0.800000</td>\n",
       "      <td id=\"T_2b215_row4_col2\" class=\"data row4 col2\" >0.727273</td>\n",
       "      <td id=\"T_2b215_row4_col3\" class=\"data row4 col3\" >5.000000</td>\n",
       "    </tr>\n",
       "    <tr>\n",
       "      <th id=\"T_2b215_level0_row5\" class=\"row_heading level0 row5\" >cube</th>\n",
       "      <td id=\"T_2b215_row5_col0\" class=\"data row5 col0\" >0.800000</td>\n",
       "      <td id=\"T_2b215_row5_col1\" class=\"data row5 col1\" >0.800000</td>\n",
       "      <td id=\"T_2b215_row5_col2\" class=\"data row5 col2\" >0.800000</td>\n",
       "      <td id=\"T_2b215_row5_col3\" class=\"data row5 col3\" >5.000000</td>\n",
       "    </tr>\n",
       "    <tr>\n",
       "      <th id=\"T_2b215_level0_row6\" class=\"row_heading level0 row6\" >cylinder</th>\n",
       "      <td id=\"T_2b215_row6_col0\" class=\"data row6 col0\" >0.625000</td>\n",
       "      <td id=\"T_2b215_row6_col1\" class=\"data row6 col1\" >1.000000</td>\n",
       "      <td id=\"T_2b215_row6_col2\" class=\"data row6 col2\" >0.769231</td>\n",
       "      <td id=\"T_2b215_row6_col3\" class=\"data row6 col3\" >5.000000</td>\n",
       "    </tr>\n",
       "    <tr>\n",
       "      <th id=\"T_2b215_level0_row7\" class=\"row_heading level0 row7\" >jenga</th>\n",
       "      <td id=\"T_2b215_row7_col0\" class=\"data row7 col0\" >0.833333</td>\n",
       "      <td id=\"T_2b215_row7_col1\" class=\"data row7 col1\" >1.000000</td>\n",
       "      <td id=\"T_2b215_row7_col2\" class=\"data row7 col2\" >0.909091</td>\n",
       "      <td id=\"T_2b215_row7_col3\" class=\"data row7 col3\" >5.000000</td>\n",
       "    </tr>\n",
       "    <tr>\n",
       "      <th id=\"T_2b215_level0_row8\" class=\"row_heading level0 row8\" >labello</th>\n",
       "      <td id=\"T_2b215_row8_col0\" class=\"data row8 col0\" >0.800000</td>\n",
       "      <td id=\"T_2b215_row8_col1\" class=\"data row8 col1\" >0.800000</td>\n",
       "      <td id=\"T_2b215_row8_col2\" class=\"data row8 col2\" >0.800000</td>\n",
       "      <td id=\"T_2b215_row8_col3\" class=\"data row8 col3\" >5.000000</td>\n",
       "    </tr>\n",
       "    <tr>\n",
       "      <th id=\"T_2b215_level0_row9\" class=\"row_heading level0 row9\" >lemon</th>\n",
       "      <td id=\"T_2b215_row9_col0\" class=\"data row9 col0\" >0.500000</td>\n",
       "      <td id=\"T_2b215_row9_col1\" class=\"data row9 col1\" >0.400000</td>\n",
       "      <td id=\"T_2b215_row9_col2\" class=\"data row9 col2\" >0.444444</td>\n",
       "      <td id=\"T_2b215_row9_col3\" class=\"data row9 col3\" >5.000000</td>\n",
       "    </tr>\n",
       "    <tr>\n",
       "      <th id=\"T_2b215_level0_row10\" class=\"row_heading level0 row10\" >metalbrick</th>\n",
       "      <td id=\"T_2b215_row10_col0\" class=\"data row10 col0\" >1.000000</td>\n",
       "      <td id=\"T_2b215_row10_col1\" class=\"data row10 col1\" >0.600000</td>\n",
       "      <td id=\"T_2b215_row10_col2\" class=\"data row10 col2\" >0.750000</td>\n",
       "      <td id=\"T_2b215_row10_col3\" class=\"data row10 col3\" >5.000000</td>\n",
       "    </tr>\n",
       "    <tr>\n",
       "      <th id=\"T_2b215_level0_row11\" class=\"row_heading level0 row11\" >parallelepiped</th>\n",
       "      <td id=\"T_2b215_row11_col0\" class=\"data row11 col0\" >0.800000</td>\n",
       "      <td id=\"T_2b215_row11_col1\" class=\"data row11 col1\" >1.000000</td>\n",
       "      <td id=\"T_2b215_row11_col2\" class=\"data row11 col2\" >0.888889</td>\n",
       "      <td id=\"T_2b215_row11_col3\" class=\"data row11 col3\" >4.000000</td>\n",
       "    </tr>\n",
       "    <tr>\n",
       "      <th id=\"T_2b215_level0_row12\" class=\"row_heading level0 row12\" >smallbutton</th>\n",
       "      <td id=\"T_2b215_row12_col0\" class=\"data row12 col0\" >0.600000</td>\n",
       "      <td id=\"T_2b215_row12_col1\" class=\"data row12 col1\" >0.500000</td>\n",
       "      <td id=\"T_2b215_row12_col2\" class=\"data row12 col2\" >0.545455</td>\n",
       "      <td id=\"T_2b215_row12_col3\" class=\"data row12 col3\" >6.000000</td>\n",
       "    </tr>\n",
       "    <tr>\n",
       "      <th id=\"T_2b215_level0_row13\" class=\"row_heading level0 row13\" >smallcube</th>\n",
       "      <td id=\"T_2b215_row13_col0\" class=\"data row13 col0\" >0.800000</td>\n",
       "      <td id=\"T_2b215_row13_col1\" class=\"data row13 col1\" >0.800000</td>\n",
       "      <td id=\"T_2b215_row13_col2\" class=\"data row13 col2\" >0.800000</td>\n",
       "      <td id=\"T_2b215_row13_col3\" class=\"data row13 col3\" >5.000000</td>\n",
       "    </tr>\n",
       "    <tr>\n",
       "      <th id=\"T_2b215_level0_row14\" class=\"row_heading level0 row14\" >syringe</th>\n",
       "      <td id=\"T_2b215_row14_col0\" class=\"data row14 col0\" >1.000000</td>\n",
       "      <td id=\"T_2b215_row14_col1\" class=\"data row14 col1\" >1.000000</td>\n",
       "      <td id=\"T_2b215_row14_col2\" class=\"data row14 col2\" >1.000000</td>\n",
       "      <td id=\"T_2b215_row14_col3\" class=\"data row14 col3\" >4.000000</td>\n",
       "    </tr>\n",
       "    <tr>\n",
       "      <th id=\"T_2b215_level0_row15\" class=\"row_heading level0 row15\" >tomato</th>\n",
       "      <td id=\"T_2b215_row15_col0\" class=\"data row15 col0\" >0.571429</td>\n",
       "      <td id=\"T_2b215_row15_col1\" class=\"data row15 col1\" >1.000000</td>\n",
       "      <td id=\"T_2b215_row15_col2\" class=\"data row15 col2\" >0.727273</td>\n",
       "      <td id=\"T_2b215_row15_col3\" class=\"data row15 col3\" >4.000000</td>\n",
       "    </tr>\n",
       "  </tbody>\n",
       "</table>\n"
      ],
      "text/plain": [
       "<pandas.io.formats.style.Styler at 0x13d330390>"
      ]
     },
     "execution_count": 7,
     "metadata": {},
     "output_type": "execute_result"
    }
   ],
   "source": [
    "per_class_clf_scores_df.style.background_gradient(cmap=\"Blues\")"
   ]
  },
  {
   "cell_type": "code",
   "execution_count": 8,
   "id": "5d664152",
   "metadata": {},
   "outputs": [
    {
     "data": {
      "image/png": "[encoded data removed]",
      "text/plain": [
       "<Figure size 640x480 with 2 Axes>"
      ]
     },
     "metadata": {},
     "output_type": "display_data"
    }
   ],
   "source": [
    "plot_confusion_matrix(\n",
    "    y_true=y_test_str,\n",
    "    y_pred=y_pred_str,\n",
    "    title=f\"{MODEL_NAME} Confusion Matrix\",\n",
    "    path=os.path.join(RESULTS_DIR, f\"{MODEL_NAME}_confusion_matrix.png\")\n",
    ")"
   ]
  }
 ],
 "metadata": {
  "kernelspec": {
   "display_name": "robotics",
   "language": "python",
   "name": "python3"
  },
  "language_info": {
   "codemirror_mode": {
    "name": "ipython",
    "version": 3
   },
   "file_extension": ".py",
   "mimetype": "text/x-python",
   "name": "python",
   "nbconvert_exporter": "python",
   "pygments_lexer": "ipython3",
   "version": "3.11.11"
  }
 },
 "nbformat": 4,
 "nbformat_minor": 5
}
